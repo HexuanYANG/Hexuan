{
 "cells": [
  {
   "cell_type": "markdown",
   "id": "0e544772",
   "metadata": {},
   "source": [
    "# <span style=\"color:red\">QPM: Assignment 4</span>\n",
    "\n",
    "###  LAFTIT Mehdi, LIN Christine, MUSEUX Célia and YANG Hexuan \n",
    "\n",
    "Financial Engineering - Quantitative Portfolio Management\n",
    "\n",
    "**Due date :** 13/11/2023 9am\n",
    "\n",
    "**Ressource:** Tidy finance website / Danny Groves\n",
    "\n",
    "> *We noticed that we used daily log returns in the Assignment 3 instead of using monthly log returns. Therefore we corrected it in the Question 0 for this assignment.*"
   ]
  },
  {
   "cell_type": "markdown",
   "id": "5645cd1e",
   "metadata": {},
   "source": [
    "## <span style=\"color:green\">Preliminary step</span>"
   ]
  },
  {
   "cell_type": "markdown",
   "id": "1f346ae0",
   "metadata": {},
   "source": [
    "We import the libraries we are going to use in this assignment:"
   ]
  },
  {
   "cell_type": "code",
   "execution_count": 1,
   "id": "22f78ca5",
   "metadata": {
    "tags": []
   },
   "outputs": [
    {
     "name": "stderr",
     "output_type": "stream",
     "text": [
      "C:\\Anaconda\\lib\\site-packages\\scipy\\__init__.py:155: UserWarning: A NumPy version >=1.18.5 and <1.25.0 is required for this version of SciPy (detected version 1.26.1\n",
      "  warnings.warn(f\"A NumPy version >={np_minversion} and <{np_maxversion}\"\n"
     ]
    }
   ],
   "source": [
    "import pandas as pd\n",
    "import numpy as np\n",
    "import matplotlib.pyplot as plt\n",
    "from tabulate import tabulate\n",
    "import scipy.stats as stats"
   ]
  },
  {
   "cell_type": "markdown",
   "id": "233f799e-8d69-463f-8baa-aaeae5b31c7e",
   "metadata": {},
   "source": [
    "## <span style=\"color:green\">Question 0 of Assignment 4</span>"
   ]
  },
  {
   "cell_type": "markdown",
   "id": "220b47b9-646a-4abb-b320-ce11edf24f53",
   "metadata": {},
   "source": [
    "Let us download the cleaned data of S&P500 prices from Assignment 3, select the 10 companies and compute their monthly log-returns."
   ]
  },
  {
   "cell_type": "code",
   "execution_count": 2,
   "id": "55226b70-90ed-4b6a-bd56-5c55785407e8",
   "metadata": {
    "tags": []
   },
   "outputs": [],
   "source": [
    "new_SP500_prices = pd.read_csv(\"C:/Users/Administrator/Desktop/QPM/New_SP500_prices.csv\")"
   ]
  },
  {
   "cell_type": "markdown",
   "id": "cc348db6-d75f-4d28-b959-c97cc3fffffe",
   "metadata": {},
   "source": [
    "We select the 10 companies \"MMM\", \"AOS\", \"ABT\", \"ADM\", \"ADBE\", \"ADP\", \"AES\", \"AFL\", \"A\", \"AKAM\" to compute the monthly returns."
   ]
  },
  {
   "cell_type": "code",
   "execution_count": 3,
   "id": "c301558e-2ccb-4aee-93ef-507b9acfa4f4",
   "metadata": {
    "tags": []
   },
   "outputs": [],
   "source": [
    "selected_symbols = [\"MMM\", \"AOS\", \"ABT\", \"ADM\", \"ADBE\", \"ADP\", \"AES\", \"AFL\", \"A\", \"AKAM\"]\n",
    "\n",
    "# We select only the rows where the 10 ticker names appear\n",
    "prices_10_companies = new_SP500_prices[new_SP500_prices['symbol'].isin(selected_symbols)]"
   ]
  },
  {
   "cell_type": "markdown",
   "id": "5a1c14d6",
   "metadata": {},
   "source": [
    "We now compute the monthly log-returns using the following formula:  $ln(Pt/P(t-1))$ where $ln$ is the natural logarithm function and $Pt$ is the adjusted prices at time t."
   ]
  },
  {
   "cell_type": "code",
   "execution_count": 4,
   "id": "5e65c9d8-0f73-40dc-a865-0c03ccd55c5b",
   "metadata": {
    "scrolled": true,
    "tags": []
   },
   "outputs": [
    {
     "name": "stderr",
     "output_type": "stream",
     "text": [
      "C:\\Users\\Administrator\\AppData\\Local\\Temp\\ipykernel_7004\\3195829008.py:1: SettingWithCopyWarning: \n",
      "A value is trying to be set on a copy of a slice from a DataFrame.\n",
      "Try using .loc[row_indexer,col_indexer] = value instead\n",
      "\n",
      "See the caveats in the documentation: https://pandas.pydata.org/pandas-docs/stable/user_guide/indexing.html#returning-a-view-versus-a-copy\n",
      "  prices_10_companies['date'] = pd.to_datetime(prices_10_companies['date'])\n"
     ]
    }
   ],
   "source": [
    "prices_10_companies['date'] = pd.to_datetime(prices_10_companies['date'])\n",
    "prices_10_companies.set_index('date', inplace=True)\n",
    "\n",
    "\n",
    "log_return_matrix = (prices_10_companies\n",
    "    .pivot(columns=\"symbol\", values=\"adjusted\")\n",
    "    .resample(\"M\")\n",
    "    .last()\n",
    "    .apply(lambda x: np.log(x / x.shift(1)))\n",
    "    .dropna()\n",
    ")"
   ]
  },
  {
   "cell_type": "code",
   "execution_count": 6,
   "id": "1477c8bd",
   "metadata": {},
   "outputs": [
    {
     "data": {
      "text/html": [
       "<div>\n",
       "<style scoped>\n",
       "    .dataframe tbody tr th:only-of-type {\n",
       "        vertical-align: middle;\n",
       "    }\n",
       "\n",
       "    .dataframe tbody tr th {\n",
       "        vertical-align: top;\n",
       "    }\n",
       "\n",
       "    .dataframe thead th {\n",
       "        text-align: right;\n",
       "    }\n",
       "</style>\n",
       "<table border=\"1\" class=\"dataframe\">\n",
       "  <thead>\n",
       "    <tr style=\"text-align: right;\">\n",
       "      <th>symbol</th>\n",
       "      <th>A</th>\n",
       "      <th>ABT</th>\n",
       "      <th>ADBE</th>\n",
       "      <th>ADM</th>\n",
       "      <th>ADP</th>\n",
       "      <th>AES</th>\n",
       "      <th>AFL</th>\n",
       "      <th>AKAM</th>\n",
       "      <th>AOS</th>\n",
       "      <th>MMM</th>\n",
       "    </tr>\n",
       "    <tr>\n",
       "      <th>date</th>\n",
       "      <th></th>\n",
       "      <th></th>\n",
       "      <th></th>\n",
       "      <th></th>\n",
       "      <th></th>\n",
       "      <th></th>\n",
       "      <th></th>\n",
       "      <th></th>\n",
       "      <th></th>\n",
       "      <th></th>\n",
       "    </tr>\n",
       "  </thead>\n",
       "  <tbody>\n",
       "    <tr>\n",
       "      <th>2000-02-29</th>\n",
       "      <td>0.450696</td>\n",
       "      <td>0.013346</td>\n",
       "      <td>0.616504</td>\n",
       "      <td>-0.150862</td>\n",
       "      <td>-0.085217</td>\n",
       "      <td>0.044995</td>\n",
       "      <td>-0.170378</td>\n",
       "      <td>0.047523</td>\n",
       "      <td>-0.135341</td>\n",
       "      <td>-0.053376</td>\n",
       "    </tr>\n",
       "    <tr>\n",
       "      <th>2000-03-31</th>\n",
       "      <td>0.001203</td>\n",
       "      <td>0.064184</td>\n",
       "      <td>0.087614</td>\n",
       "      <td>0.024541</td>\n",
       "      <td>0.104225</td>\n",
       "      <td>-0.062304</td>\n",
       "      <td>0.220062</td>\n",
       "      <td>-0.485239</td>\n",
       "      <td>0.042560</td>\n",
       "      <td>0.004243</td>\n",
       "    </tr>\n",
       "    <tr>\n",
       "      <th>2000-04-30</th>\n",
       "      <td>-0.159977</td>\n",
       "      <td>0.093346</td>\n",
       "      <td>0.082932</td>\n",
       "      <td>-0.037042</td>\n",
       "      <td>0.109110</td>\n",
       "      <td>0.132837</td>\n",
       "      <td>0.068901</td>\n",
       "      <td>-0.486383</td>\n",
       "      <td>0.139391</td>\n",
       "      <td>-0.022120</td>\n",
       "    </tr>\n",
       "    <tr>\n",
       "      <th>2000-05-31</th>\n",
       "      <td>-0.185430</td>\n",
       "      <td>0.056888</td>\n",
       "      <td>-0.071765</td>\n",
       "      <td>0.188230</td>\n",
       "      <td>0.021827</td>\n",
       "      <td>-0.030337</td>\n",
       "      <td>0.058973</td>\n",
       "      <td>-0.392902</td>\n",
       "      <td>0.021053</td>\n",
       "      <td>-0.003692</td>\n",
       "    </tr>\n",
       "    <tr>\n",
       "      <th>2000-06-30</th>\n",
       "      <td>0.001696</td>\n",
       "      <td>0.090972</td>\n",
       "      <td>0.144227</td>\n",
       "      <td>-0.196028</td>\n",
       "      <td>-0.024957</td>\n",
       "      <td>0.044825</td>\n",
       "      <td>-0.117934</td>\n",
       "      <td>0.575935</td>\n",
       "      <td>-0.003727</td>\n",
       "      <td>-0.032595</td>\n",
       "    </tr>\n",
       "    <tr>\n",
       "      <th>...</th>\n",
       "      <td>...</td>\n",
       "      <td>...</td>\n",
       "      <td>...</td>\n",
       "      <td>...</td>\n",
       "      <td>...</td>\n",
       "      <td>...</td>\n",
       "      <td>...</td>\n",
       "      <td>...</td>\n",
       "      <td>...</td>\n",
       "      <td>...</td>\n",
       "    </tr>\n",
       "    <tr>\n",
       "      <th>2022-08-31</th>\n",
       "      <td>-0.044605</td>\n",
       "      <td>-0.058554</td>\n",
       "      <td>-0.093692</td>\n",
       "      <td>0.064675</td>\n",
       "      <td>0.013553</td>\n",
       "      <td>0.135723</td>\n",
       "      <td>0.042781</td>\n",
       "      <td>-0.063721</td>\n",
       "      <td>-0.114056</td>\n",
       "      <td>-0.131211</td>\n",
       "    </tr>\n",
       "    <tr>\n",
       "      <th>2022-09-30</th>\n",
       "      <td>-0.053656</td>\n",
       "      <td>-0.059091</td>\n",
       "      <td>-0.305259</td>\n",
       "      <td>-0.088450</td>\n",
       "      <td>-0.073160</td>\n",
       "      <td>-0.118766</td>\n",
       "      <td>-0.055714</td>\n",
       "      <td>-0.116897</td>\n",
       "      <td>-0.150143</td>\n",
       "      <td>-0.118085</td>\n",
       "    </tr>\n",
       "    <tr>\n",
       "      <th>2022-10-31</th>\n",
       "      <td>0.131190</td>\n",
       "      <td>0.026987</td>\n",
       "      <td>0.146124</td>\n",
       "      <td>0.186869</td>\n",
       "      <td>0.066322</td>\n",
       "      <td>0.152271</td>\n",
       "      <td>0.147161</td>\n",
       "      <td>0.095061</td>\n",
       "      <td>0.125910</td>\n",
       "      <td>0.129598</td>\n",
       "    </tr>\n",
       "    <tr>\n",
       "      <th>2022-11-30</th>\n",
       "      <td>0.113509</td>\n",
       "      <td>0.083721</td>\n",
       "      <td>0.079719</td>\n",
       "      <td>0.009599</td>\n",
       "      <td>0.088782</td>\n",
       "      <td>0.100302</td>\n",
       "      <td>0.105454</td>\n",
       "      <td>0.071322</td>\n",
       "      <td>0.103277</td>\n",
       "      <td>0.013071</td>\n",
       "    </tr>\n",
       "    <tr>\n",
       "      <th>2022-12-31</th>\n",
       "      <td>-0.033507</td>\n",
       "      <td>0.020335</td>\n",
       "      <td>-0.024654</td>\n",
       "      <td>-0.048867</td>\n",
       "      <td>-0.095768</td>\n",
       "      <td>-0.005548</td>\n",
       "      <td>0.000139</td>\n",
       "      <td>-0.118020</td>\n",
       "      <td>-0.059350</td>\n",
       "      <td>-0.049219</td>\n",
       "    </tr>\n",
       "  </tbody>\n",
       "</table>\n",
       "<p>275 rows × 10 columns</p>\n",
       "</div>"
      ],
      "text/plain": [
       "symbol             A       ABT      ADBE       ADM       ADP       AES  \\\n",
       "date                                                                     \n",
       "2000-02-29  0.450696  0.013346  0.616504 -0.150862 -0.085217  0.044995   \n",
       "2000-03-31  0.001203  0.064184  0.087614  0.024541  0.104225 -0.062304   \n",
       "2000-04-30 -0.159977  0.093346  0.082932 -0.037042  0.109110  0.132837   \n",
       "2000-05-31 -0.185430  0.056888 -0.071765  0.188230  0.021827 -0.030337   \n",
       "2000-06-30  0.001696  0.090972  0.144227 -0.196028 -0.024957  0.044825   \n",
       "...              ...       ...       ...       ...       ...       ...   \n",
       "2022-08-31 -0.044605 -0.058554 -0.093692  0.064675  0.013553  0.135723   \n",
       "2022-09-30 -0.053656 -0.059091 -0.305259 -0.088450 -0.073160 -0.118766   \n",
       "2022-10-31  0.131190  0.026987  0.146124  0.186869  0.066322  0.152271   \n",
       "2022-11-30  0.113509  0.083721  0.079719  0.009599  0.088782  0.100302   \n",
       "2022-12-31 -0.033507  0.020335 -0.024654 -0.048867 -0.095768 -0.005548   \n",
       "\n",
       "symbol           AFL      AKAM       AOS       MMM  \n",
       "date                                                \n",
       "2000-02-29 -0.170378  0.047523 -0.135341 -0.053376  \n",
       "2000-03-31  0.220062 -0.485239  0.042560  0.004243  \n",
       "2000-04-30  0.068901 -0.486383  0.139391 -0.022120  \n",
       "2000-05-31  0.058973 -0.392902  0.021053 -0.003692  \n",
       "2000-06-30 -0.117934  0.575935 -0.003727 -0.032595  \n",
       "...              ...       ...       ...       ...  \n",
       "2022-08-31  0.042781 -0.063721 -0.114056 -0.131211  \n",
       "2022-09-30 -0.055714 -0.116897 -0.150143 -0.118085  \n",
       "2022-10-31  0.147161  0.095061  0.125910  0.129598  \n",
       "2022-11-30  0.105454  0.071322  0.103277  0.013071  \n",
       "2022-12-31  0.000139 -0.118020 -0.059350 -0.049219  \n",
       "\n",
       "[275 rows x 10 columns]"
      ]
     },
     "execution_count": 6,
     "metadata": {},
     "output_type": "execute_result"
    }
   ],
   "source": [
    "log_return_matrix"
   ]
  },
  {
   "cell_type": "code",
   "execution_count": 7,
   "id": "aa855403",
   "metadata": {},
   "outputs": [
    {
     "data": {
      "image/png": "[encoded data removed]",
      "text/plain": [
       "<Figure size 1000x600 with 1 Axes>"
      ]
     },
     "metadata": {},
     "output_type": "display_data"
    }
   ],
   "source": [
    "plt.figure(figsize=(10, 6))\n",
    "\n",
    "for symbol in log_return_matrix.columns:\n",
    "    plt.plot(log_return_matrix.index, log_return_matrix[symbol], label=symbol)\n",
    "\n",
    "plt.title('Monthly Log Returns of Selected 10 Companies')\n",
    "plt.xlabel('Date')\n",
    "plt.ylabel('Log Returns')\n",
    "plt.legend(title='Symbol', loc='upper left', bbox_to_anchor=(1, 1))\n",
    "plt.show()"
   ]
  },
  {
   "cell_type": "markdown",
   "id": "6a25feb6-aa59-489b-9911-d7b19f407d70",
   "metadata": {},
   "source": [
    "So, we have a “new” dataset named `log_return_matrix` that we are going to use in this assignment, which consists of monthly returns for these 10 companies.\n",
    "\n",
    "\n",
    "Let us assume that the risk-free rate of return is 0. "
   ]
  },
  {
   "cell_type": "markdown",
   "id": "c75abf83",
   "metadata": {},
   "source": [
    "## <span style=\"color:green\">Question 1 of Assignment 4</span>"
   ]
  },
  {
   "cell_type": "markdown",
   "id": "16d7eb54-1f9c-4a5f-8f7d-c357931d9364",
   "metadata": {},
   "source": [
    "In this assignment our universe selection is: 10 US publicly traded stocks (A, ABT, ADBE, ADM, ADP, AES, AFL, AOS, AKAM and MMM)\n",
    "\n",
    "\n",
    "We set the estimation window to be T<sup>est</sup> = 60 months of monthly returns, and we will use this estimation sample to compute the 2 following portfolio strategies (mean-variance portfolio MVP and global minimum variance portfolio GMV)\n",
    "\n",
    "We assume that there is no constraints on the size of the weight."
   ]
  },
  {
   "cell_type": "code",
   "execution_count": 8,
   "id": "da295da8",
   "metadata": {},
   "outputs": [],
   "source": [
    "# We choose the estimation window T_est = 60 months\n",
    "T_est = 60"
   ]
  },
  {
   "cell_type": "code",
   "execution_count": 9,
   "id": "fbfd1af7-e5a4-4e36-b5fc-d93b4517cc7f",
   "metadata": {},
   "outputs": [
    {
     "name": "stdout",
     "output_type": "stream",
     "text": [
      "(60, 10)\n"
     ]
    },
    {
     "data": {
      "text/html": [
       "<div>\n",
       "<style scoped>\n",
       "    .dataframe tbody tr th:only-of-type {\n",
       "        vertical-align: middle;\n",
       "    }\n",
       "\n",
       "    .dataframe tbody tr th {\n",
       "        vertical-align: top;\n",
       "    }\n",
       "\n",
       "    .dataframe thead th {\n",
       "        text-align: right;\n",
       "    }\n",
       "</style>\n",
       "<table border=\"1\" class=\"dataframe\">\n",
       "  <thead>\n",
       "    <tr style=\"text-align: right;\">\n",
       "      <th>symbol</th>\n",
       "      <th>A</th>\n",
       "      <th>ABT</th>\n",
       "      <th>ADBE</th>\n",
       "      <th>ADM</th>\n",
       "      <th>ADP</th>\n",
       "      <th>AES</th>\n",
       "      <th>AFL</th>\n",
       "      <th>AKAM</th>\n",
       "      <th>AOS</th>\n",
       "      <th>MMM</th>\n",
       "    </tr>\n",
       "    <tr>\n",
       "      <th>date</th>\n",
       "      <th></th>\n",
       "      <th></th>\n",
       "      <th></th>\n",
       "      <th></th>\n",
       "      <th></th>\n",
       "      <th></th>\n",
       "      <th></th>\n",
       "      <th></th>\n",
       "      <th></th>\n",
       "      <th></th>\n",
       "    </tr>\n",
       "  </thead>\n",
       "  <tbody>\n",
       "    <tr>\n",
       "      <th>2000-02-29</th>\n",
       "      <td>0.450696</td>\n",
       "      <td>0.013346</td>\n",
       "      <td>0.616504</td>\n",
       "      <td>-0.150862</td>\n",
       "      <td>-0.085217</td>\n",
       "      <td>0.044995</td>\n",
       "      <td>-0.170378</td>\n",
       "      <td>0.047523</td>\n",
       "      <td>-0.135341</td>\n",
       "      <td>-0.053376</td>\n",
       "    </tr>\n",
       "    <tr>\n",
       "      <th>2000-03-31</th>\n",
       "      <td>0.001203</td>\n",
       "      <td>0.064184</td>\n",
       "      <td>0.087614</td>\n",
       "      <td>0.024541</td>\n",
       "      <td>0.104225</td>\n",
       "      <td>-0.062304</td>\n",
       "      <td>0.220062</td>\n",
       "      <td>-0.485239</td>\n",
       "      <td>0.042560</td>\n",
       "      <td>0.004243</td>\n",
       "    </tr>\n",
       "    <tr>\n",
       "      <th>2000-04-30</th>\n",
       "      <td>-0.159977</td>\n",
       "      <td>0.093346</td>\n",
       "      <td>0.082932</td>\n",
       "      <td>-0.037042</td>\n",
       "      <td>0.109110</td>\n",
       "      <td>0.132837</td>\n",
       "      <td>0.068901</td>\n",
       "      <td>-0.486383</td>\n",
       "      <td>0.139391</td>\n",
       "      <td>-0.022120</td>\n",
       "    </tr>\n",
       "    <tr>\n",
       "      <th>2000-05-31</th>\n",
       "      <td>-0.185430</td>\n",
       "      <td>0.056888</td>\n",
       "      <td>-0.071765</td>\n",
       "      <td>0.188230</td>\n",
       "      <td>0.021827</td>\n",
       "      <td>-0.030337</td>\n",
       "      <td>0.058973</td>\n",
       "      <td>-0.392902</td>\n",
       "      <td>0.021053</td>\n",
       "      <td>-0.003692</td>\n",
       "    </tr>\n",
       "    <tr>\n",
       "      <th>2000-06-30</th>\n",
       "      <td>0.001696</td>\n",
       "      <td>0.090972</td>\n",
       "      <td>0.144227</td>\n",
       "      <td>-0.196028</td>\n",
       "      <td>-0.024957</td>\n",
       "      <td>0.044825</td>\n",
       "      <td>-0.117934</td>\n",
       "      <td>0.575935</td>\n",
       "      <td>-0.003727</td>\n",
       "      <td>-0.032595</td>\n",
       "    </tr>\n",
       "    <tr>\n",
       "      <th>2000-07-31</th>\n",
       "      <td>-0.593225</td>\n",
       "      <td>-0.066771</td>\n",
       "      <td>-0.126960</td>\n",
       "      <td>-0.045610</td>\n",
       "      <td>-0.077615</td>\n",
       "      <td>0.158057</td>\n",
       "      <td>0.122759</td>\n",
       "      <td>-0.409223</td>\n",
       "      <td>-0.252484</td>\n",
       "      <td>0.081663</td>\n",
       "    </tr>\n",
       "    <tr>\n",
       "      <th>2000-08-31</th>\n",
       "      <td>0.403418</td>\n",
       "      <td>0.053155</td>\n",
       "      <td>0.126960</td>\n",
       "      <td>-0.006205</td>\n",
       "      <td>0.185103</td>\n",
       "      <td>0.174739</td>\n",
       "      <td>0.040679</td>\n",
       "      <td>-0.042706</td>\n",
       "      <td>-0.023531</td>\n",
       "      <td>0.038304</td>\n",
       "    </tr>\n",
       "    <tr>\n",
       "      <th>2000-09-30</th>\n",
       "      <td>-0.220330</td>\n",
       "      <td>0.083196</td>\n",
       "      <td>0.177671</td>\n",
       "      <td>-0.023278</td>\n",
       "      <td>0.115892</td>\n",
       "      <td>0.073810</td>\n",
       "      <td>0.179328</td>\n",
       "      <td>-0.363849</td>\n",
       "      <td>-0.226124</td>\n",
       "      <td>-0.020535</td>\n",
       "    </tr>\n",
       "    <tr>\n",
       "      <th>2000-10-31</th>\n",
       "      <td>-0.055132</td>\n",
       "      <td>0.108583</td>\n",
       "      <td>-0.020334</td>\n",
       "      <td>0.243231</td>\n",
       "      <td>-0.023642</td>\n",
       "      <td>-0.192821</td>\n",
       "      <td>0.122714</td>\n",
       "      <td>-0.029285</td>\n",
       "      <td>0.126862</td>\n",
       "      <td>0.058605</td>\n",
       "    </tr>\n",
       "    <tr>\n",
       "      <th>2000-11-30</th>\n",
       "      <td>0.119431</td>\n",
       "      <td>0.041721</td>\n",
       "      <td>-0.182486</td>\n",
       "      <td>0.152218</td>\n",
       "      <td>0.010472</td>\n",
       "      <td>-0.085404</td>\n",
       "      <td>-0.036265</td>\n",
       "      <td>-0.573188</td>\n",
       "      <td>0.162961</td>\n",
       "      <td>0.039230</td>\n",
       "    </tr>\n",
       "  </tbody>\n",
       "</table>\n",
       "</div>"
      ],
      "text/plain": [
       "symbol             A       ABT      ADBE       ADM       ADP       AES  \\\n",
       "date                                                                     \n",
       "2000-02-29  0.450696  0.013346  0.616504 -0.150862 -0.085217  0.044995   \n",
       "2000-03-31  0.001203  0.064184  0.087614  0.024541  0.104225 -0.062304   \n",
       "2000-04-30 -0.159977  0.093346  0.082932 -0.037042  0.109110  0.132837   \n",
       "2000-05-31 -0.185430  0.056888 -0.071765  0.188230  0.021827 -0.030337   \n",
       "2000-06-30  0.001696  0.090972  0.144227 -0.196028 -0.024957  0.044825   \n",
       "2000-07-31 -0.593225 -0.066771 -0.126960 -0.045610 -0.077615  0.158057   \n",
       "2000-08-31  0.403418  0.053155  0.126960 -0.006205  0.185103  0.174739   \n",
       "2000-09-30 -0.220330  0.083196  0.177671 -0.023278  0.115892  0.073810   \n",
       "2000-10-31 -0.055132  0.108583 -0.020334  0.243231 -0.023642 -0.192821   \n",
       "2000-11-30  0.119431  0.041721 -0.182486  0.152218  0.010472 -0.085404   \n",
       "\n",
       "symbol           AFL      AKAM       AOS       MMM  \n",
       "date                                                \n",
       "2000-02-29 -0.170378  0.047523 -0.135341 -0.053376  \n",
       "2000-03-31  0.220062 -0.485239  0.042560  0.004243  \n",
       "2000-04-30  0.068901 -0.486383  0.139391 -0.022120  \n",
       "2000-05-31  0.058973 -0.392902  0.021053 -0.003692  \n",
       "2000-06-30 -0.117934  0.575935 -0.003727 -0.032595  \n",
       "2000-07-31  0.122759 -0.409223 -0.252484  0.081663  \n",
       "2000-08-31  0.040679 -0.042706 -0.023531  0.038304  \n",
       "2000-09-30  0.179328 -0.363849 -0.226124 -0.020535  \n",
       "2000-10-31  0.122714 -0.029285  0.126862  0.058605  \n",
       "2000-11-30 -0.036265 -0.573188  0.162961  0.039230  "
      ]
     },
     "execution_count": 9,
     "metadata": {},
     "output_type": "execute_result"
    }
   ],
   "source": [
    "# We set our estimation window\n",
    "estimation_sample = log_return_matrix.iloc[:T_est, :]\n",
    "\n",
    "print(estimation_sample.shape)\n",
    "estimation_sample.head(10)"
   ]
  },
  {
   "cell_type": "markdown",
   "id": "9b8adb61",
   "metadata": {},
   "source": [
    "For the rest of question, we use `estimation_sample`."
   ]
  },
  {
   "cell_type": "code",
   "execution_count": 10,
   "id": "df3b138f-f74d-4b62-918c-015b9ed9c209",
   "metadata": {
    "tags": []
   },
   "outputs": [],
   "source": [
    "# We compute the mu and sigma that we will be used in the calculation of the weights\n",
    "mu_est = np.array(estimation_sample.mean()).T\n",
    "sigma_est = np.array(estimation_sample.cov())"
   ]
  },
  {
   "cell_type": "code",
   "execution_count": 11,
   "id": "99b0958c",
   "metadata": {},
   "outputs": [
    {
     "name": "stdout",
     "output_type": "stream",
     "text": [
      "\u001b[1mThe means returns:\u001b[0m \n"
     ]
    },
    {
     "data": {
      "text/plain": [
       "array([-0.01827436,  0.00825793,  0.01221462,  0.01510589, -0.00059301,\n",
       "       -0.01746364,  0.01063955, -0.04908904,  0.00729581,  0.01154019])"
      ]
     },
     "execution_count": 11,
     "metadata": {},
     "output_type": "execute_result"
    }
   ],
   "source": [
    "print(\"\\033[1mThe means returns:\\033[0m \")\n",
    "mu_est"
   ]
  },
  {
   "cell_type": "code",
   "execution_count": 12,
   "id": "2a5dc844",
   "metadata": {},
   "outputs": [
    {
     "name": "stdout",
     "output_type": "stream",
     "text": [
      "\u001b[1mThe variance-covariance matrix:\u001b[0m \n"
     ]
    },
    {
     "data": {
      "text/plain": [
       "array([[ 0.03462868,  0.00055601,  0.01806097,  0.00147341,  0.0052759 ,\n",
       "         0.01186457, -0.00176227,  0.03284669,  0.00493889,  0.00140742],\n",
       "       [ 0.00055601,  0.00502265,  0.00163704,  0.0010124 ,  0.00141969,\n",
       "        -0.00103081,  0.00065333,  0.00317176,  0.00023113,  0.00015321],\n",
       "       [ 0.01806097,  0.00163704,  0.02652392, -0.00233262,  0.0036153 ,\n",
       "         0.01149389,  0.00117157,  0.01704807, -0.00058413,  0.00130298],\n",
       "       [ 0.00147341,  0.0010124 , -0.00233262,  0.00733993,  0.00264393,\n",
       "         0.00232078,  0.00180469,  0.0016773 ,  0.00114388,  0.00174885],\n",
       "       [ 0.0052759 ,  0.00141969,  0.0036153 ,  0.00264393,  0.00612613,\n",
       "         0.00677604,  0.00153653,  0.00673077,  0.0003021 ,  0.00108772],\n",
       "       [ 0.01186457, -0.00103081,  0.01149389,  0.00232078,  0.00677604,\n",
       "         0.07464928,  0.00309578,  0.03215401,  0.00515138, -0.00026707],\n",
       "       [-0.00176227,  0.00065333,  0.00117157,  0.00180469,  0.00153653,\n",
       "         0.00309578,  0.00615542, -0.00204203,  0.00083335,  0.00169499],\n",
       "       [ 0.03284669,  0.00317176,  0.01704807,  0.0016773 ,  0.00673077,\n",
       "         0.03215401, -0.00204203,  0.10848722,  0.00255448,  0.00213863],\n",
       "       [ 0.00493889,  0.00023113, -0.00058413,  0.00114388,  0.0003021 ,\n",
       "         0.00515138,  0.00083335,  0.00255448,  0.01273926,  0.00048968],\n",
       "       [ 0.00140742,  0.00015321,  0.00130298,  0.00174885,  0.00108772,\n",
       "        -0.00026707,  0.00169499,  0.00213863,  0.00048968,  0.00375482]])"
      ]
     },
     "execution_count": 12,
     "metadata": {},
     "output_type": "execute_result"
    }
   ],
   "source": [
    "print(\"\\033[1mThe variance-covariance matrix:\\033[0m \")\n",
    "sigma_est"
   ]
  },
  {
   "cell_type": "markdown",
   "id": "55e16b1c",
   "metadata": {},
   "source": [
    "### 1.a Mean-variance portfolio (MVP) without constraints on the size of the weight"
   ]
  },
  {
   "cell_type": "code",
   "execution_count": 13,
   "id": "ab664c5c",
   "metadata": {},
   "outputs": [
    {
     "name": "stdout",
     "output_type": "stream",
     "text": [
      "\u001b[1mN =\u001b[0m  10\n"
     ]
    }
   ],
   "source": [
    "N = mu_est.shape[0]\n",
    "print(\"\\033[1mN =\\033[0m \", N)\n",
    "ones = np.ones(N) #vector of 1\n",
    "sigma_inv = np.linalg.inv(sigma_est) #inverse of the variance-covariance matrix"
   ]
  },
  {
   "cell_type": "markdown",
   "id": "1e6850b6",
   "metadata": {},
   "source": [
    "We compute the intermediate quantities:"
   ]
  },
  {
   "cell_type": "code",
   "execution_count": 14,
   "id": "da6d0c60",
   "metadata": {},
   "outputs": [
    {
     "name": "stdout",
     "output_type": "stream",
     "text": [
      "\u001b[1ma1=\u001b[0m  0.15110985745747796\n",
      "\u001b[1ma2 =\u001b[0m  5.481090173802507\n",
      "\u001b[1ma3 =\u001b[0m  570.8358382499423\n",
      "\u001b[1mD =\u001b[0m  56.216572656214325\n"
     ]
    }
   ],
   "source": [
    "a1 = mu_est.T @ sigma_inv @ mu_est # The \".T\" is the transpose operator\n",
    "a2 = mu_est.T @ sigma_inv @ ones # The \"@\" stands for matrix multiplication\n",
    "a3 = ones.T @ sigma_inv @ ones\n",
    "D = a1*a3 - a2**2\n",
    "\n",
    "print(\"\\033[1ma1=\\033[0m \",a1) \n",
    "print(\"\\033[1ma2 =\\033[0m \", a2)\n",
    "print(\"\\033[1ma3 =\\033[0m \", a3)\n",
    "print(\"\\033[1mD =\\033[0m \", D)"
   ]
  },
  {
   "cell_type": "markdown",
   "id": "122e4125",
   "metadata": {},
   "source": [
    "We arbitrarily choose the target expected return, which depends mainly on investment objectives, time horizon and risk aversion.\n",
    "\n",
    "Here we choose to set it equal to 2%"
   ]
  },
  {
   "cell_type": "code",
   "execution_count": 15,
   "id": "ed0d17a1",
   "metadata": {},
   "outputs": [],
   "source": [
    "mu_targ=0.02"
   ]
  },
  {
   "cell_type": "markdown",
   "id": "9687d179",
   "metadata": {},
   "source": [
    "We compute the optimal weights: "
   ]
  },
  {
   "cell_type": "code",
   "execution_count": 16,
   "id": "fcf215e4",
   "metadata": {},
   "outputs": [
    {
     "name": "stdout",
     "output_type": "stream",
     "text": [
      "\u001b[1mOptimal weights are:\u001b[0m\n",
      "[-0.14116674  0.23606917  0.22041413  0.32284968 -0.09961979 -0.0132412\n",
      " -0.00725493 -0.04578299  0.15292808  0.37480458]\n",
      " \n",
      "\u001b[1mVolatilitiy of optimal portfolio’s return is:\u001b[0m 0.0534\n"
     ]
    }
   ],
   "source": [
    "# We define w0 and w1\n",
    "w0 = (a1*sigma_inv@ones - a2*sigma_inv@mu_est)/D\n",
    "w1 = (a1*sigma_inv@ones - a2*sigma_inv@mu_est)/D + (a3*sigma_inv@mu_est - a2*sigma_inv@ones)/D\n",
    "\n",
    "\n",
    "# We define function of mu_targ for weights and portfolio volatility\n",
    "weights = w0 + mu_targ*(w1 - w0)\n",
    "portfolioVolatility = np.sqrt(weights.T @ sigma_est @ weights)\n",
    "\n",
    "\n",
    "print(\"\\033[1mOptimal weights are:\\033[0m\")\n",
    "print(weights)\n",
    "print(\" \")\n",
    "print(\"\\033[1mVolatilitiy of optimal portfolio’s return is:\\033[0m\",portfolioVolatility.round(4))"
   ]
  },
  {
   "cell_type": "markdown",
   "id": "403ad867",
   "metadata": {},
   "source": [
    "**Interpretation**: here the strategy is to *short* five stocks and *long* five stocks.\n",
    "\n",
    "So if we want a return of 2%, we will need to take a risk of 5.3%."
   ]
  },
  {
   "cell_type": "markdown",
   "id": "fb00ea31",
   "metadata": {},
   "source": [
    "### 1.b Global minimum variance (GMV) portfolio without constraints on the size of the weight"
   ]
  },
  {
   "cell_type": "code",
   "execution_count": 17,
   "id": "1376a21f",
   "metadata": {},
   "outputs": [
    {
     "name": "stdout",
     "output_type": "stream",
     "text": [
      "\u001b[1mN =\u001b[0m  10\n"
     ]
    }
   ],
   "source": [
    "N = mu_est.shape[0]\n",
    "print(\"\\033[1mN =\\033[0m \", N)\n",
    "ones = np.ones(N) #vector of 1\n",
    "sigma_inv = np.linalg.inv(sigma_est) #inverse of the variance-covariance matrix"
   ]
  },
  {
   "cell_type": "markdown",
   "id": "0181a545",
   "metadata": {},
   "source": [
    "We compute the weights of the MPV:"
   ]
  },
  {
   "cell_type": "code",
   "execution_count": 18,
   "id": "7715f0b3-be9d-41df-8756-6c63dbe77149",
   "metadata": {
    "tags": []
   },
   "outputs": [],
   "source": [
    "gmv_weights = sigma_inv @ ones\n",
    "gmv_weights /= gmv_weights.sum()"
   ]
  },
  {
   "cell_type": "markdown",
   "id": "11d5df82",
   "metadata": {},
   "source": [
    "We compute the return and volatility of the MPV:"
   ]
  },
  {
   "cell_type": "code",
   "execution_count": 19,
   "id": "0693b99e",
   "metadata": {},
   "outputs": [],
   "source": [
    "gmv_return = (mu_est.T @ gmv_weights)\n",
    "gmv_volatility = np.sqrt(gmv_weights.T @ sigma_est @ gmv_weights)\n",
    "\n",
    "gmv_moments = pd.DataFrame([gmv_return, gmv_volatility], \n",
    "                           index=[\"average_ret\", \"volatility\"]).T"
   ]
  },
  {
   "cell_type": "code",
   "execution_count": 20,
   "id": "3f656cdf-ffff-43b3-822d-0475ecf5c63c",
   "metadata": {
    "tags": []
   },
   "outputs": [
    {
     "name": "stdout",
     "output_type": "stream",
     "text": [
      "\u001b[1mThe GMV weights are:\u001b[0m\n"
     ]
    },
    {
     "data": {
      "text/plain": [
       "array([ 0.00159689,  0.28605996,  0.024503  ,  0.05002986,  0.09727619,\n",
       "        0.0090046 ,  0.0920625 , -0.01363166,  0.10574657,  0.3473521 ])"
      ]
     },
     "execution_count": 20,
     "metadata": {},
     "output_type": "execute_result"
    }
   ],
   "source": [
    "print(\"\\033[1mThe GMV weights are:\\033[0m\")\n",
    "gmv_weights"
   ]
  },
  {
   "cell_type": "markdown",
   "id": "ff16cb5c",
   "metadata": {},
   "source": [
    "**Interpretation**: here, we have to *short* the stock named AKAM and *buy* the others (A, ABT, ADBE, ADM, ADP, AES, AFL, AOS and MMM)"
   ]
  },
  {
   "cell_type": "code",
   "execution_count": 21,
   "id": "07f06044",
   "metadata": {
    "scrolled": true
   },
   "outputs": [
    {
     "name": "stdout",
     "output_type": "stream",
     "text": [
      "\u001b[1mThe GMV moments:\u001b[0m\n"
     ]
    },
    {
     "data": {
      "text/html": [
       "<div>\n",
       "<style scoped>\n",
       "    .dataframe tbody tr th:only-of-type {\n",
       "        vertical-align: middle;\n",
       "    }\n",
       "\n",
       "    .dataframe tbody tr th {\n",
       "        vertical-align: top;\n",
       "    }\n",
       "\n",
       "    .dataframe thead th {\n",
       "        text-align: right;\n",
       "    }\n",
       "</style>\n",
       "<table border=\"1\" class=\"dataframe\">\n",
       "  <thead>\n",
       "    <tr style=\"text-align: right;\">\n",
       "      <th></th>\n",
       "      <th>average_ret</th>\n",
       "      <th>volatility</th>\n",
       "    </tr>\n",
       "  </thead>\n",
       "  <tbody>\n",
       "    <tr>\n",
       "      <th>0</th>\n",
       "      <td>0.009602</td>\n",
       "      <td>0.041855</td>\n",
       "    </tr>\n",
       "  </tbody>\n",
       "</table>\n",
       "</div>"
      ],
      "text/plain": [
       "   average_ret  volatility\n",
       "0     0.009602    0.041855"
      ]
     },
     "execution_count": 21,
     "metadata": {},
     "output_type": "execute_result"
    }
   ],
   "source": [
    "print(\"\\033[1mThe GMV moments:\\033[0m\")\n",
    "gmv_moments"
   ]
  },
  {
   "cell_type": "markdown",
   "id": "c2dec442",
   "metadata": {},
   "source": [
    "**Interpretation**: with this portfolio, using these weights, we can expect a return of 1% with a volatility of 4.2% (so low return and low volatility)"
   ]
  },
  {
   "cell_type": "markdown",
   "id": "5242adaa",
   "metadata": {},
   "source": [
    "## <span style=\"color:green\">Question 2 of Assignment 4</span>"
   ]
  },
  {
   "cell_type": "markdown",
   "id": "7c4cc014-7774-48f1-b1cd-b1d71568e107",
   "metadata": {},
   "source": [
    "We use a rolling window of T<sup>est</sup> = 60 months to estimate the porfolio weights for the MVP and GMV portfolio strategies for each T - T<sup>est</sup> months. "
   ]
  },
  {
   "cell_type": "code",
   "execution_count": 22,
   "id": "733ac155",
   "metadata": {},
   "outputs": [],
   "source": [
    "T_est = 60"
   ]
  },
  {
   "cell_type": "markdown",
   "id": "130e851c",
   "metadata": {},
   "source": [
    "We will define the functions `mvp_portfolio` and `gmv_portfolio` for each portfolio strategy."
   ]
  },
  {
   "cell_type": "code",
   "execution_count": 23,
   "id": "b1393ae0",
   "metadata": {},
   "outputs": [],
   "source": [
    "def gmv_portfolio(mu, sigma):\n",
    "    N = mu.shape[0]\n",
    "    iota = np.ones(N)\n",
    "    sigma_inv = np.linalg.inv(sigma)\n",
    "    gmv_weights = sigma_inv @ iota\n",
    "    gmv_weights /= gmv_weights.sum()\n",
    "        \n",
    "    return gmv_weights"
   ]
  },
  {
   "cell_type": "code",
   "execution_count": 24,
   "id": "7e1c9dbb",
   "metadata": {},
   "outputs": [],
   "source": [
    "def mvp_portfolio(mu,sigma):\n",
    "    N = mu.shape[0]\n",
    "    iota = np.ones(N)\n",
    "    sigma_inv = np.linalg.inv(sigma)\n",
    "    a1 = mu.T @ sigma_inv @ mu \n",
    "    a2 = mu.T @ sigma_inv @ iota \n",
    "    a3 = iota.T @ sigma_inv @ iota\n",
    "    D = a1*a3 - a2**2\n",
    "    w0 = (a1*sigma_inv@iota - a2*sigma_inv@mu)/D\n",
    "    w1 = (a1*sigma_inv@iota - a2*sigma_inv@mu)/D + (a3*sigma_inv@mu - a2*sigma_inv@iota)/D\n",
    "    weights = w0 + mu_targ*(w1 - w0)\n",
    "\n",
    "    return weights"
   ]
  },
  {
   "cell_type": "markdown",
   "id": "37cd72e3",
   "metadata": {},
   "source": [
    " Now we use these function to estimate the porfolio weights for the MVP and GMV portfolio strategies for each T - Test months."
   ]
  },
  {
   "cell_type": "code",
   "execution_count": 25,
   "id": "310446b8",
   "metadata": {},
   "outputs": [],
   "source": [
    "mvp_weights_list = []\n",
    "gmv_weights_list = []\n",
    "\n",
    "\n",
    "for i in range(T_est, len(log_return_matrix)):\n",
    "    rolling_window_returns = log_return_matrix.iloc[i - T_est:i, :]\n",
    "    \n",
    "    # We compute the mean and variance-covariance matrix for the rolling window\n",
    "    mu_rolling = np.array(rolling_window_returns.mean()).T\n",
    "    sigma_rolling = np.array(rolling_window_returns.cov())\n",
    "\n",
    "    # MVP portfolio weights\n",
    "    mvp_weights_rolling = mvp_portfolio(mu_rolling,sigma_rolling)\n",
    "    mvp_weights_list.append(mvp_weights_rolling)\n",
    "\n",
    "    # GMV portfolio weights\n",
    "    gmv_weights_rolling= gmv_portfolio(mu_rolling,sigma_rolling)\n",
    "    gmv_weights_list.append(gmv_weights_rolling)\n",
    "\n",
    "    \n",
    "# We convert the lists to DataFrames\n",
    "mvp_weights_df = pd.DataFrame(np.array(mvp_weights_list), columns=selected_symbols)\n",
    "gmv_weights_df = pd.DataFrame(np.array(gmv_weights_list), columns=selected_symbols)"
   ]
  },
  {
   "cell_type": "code",
   "execution_count": 26,
   "id": "8311be5a",
   "metadata": {},
   "outputs": [
    {
     "name": "stdout",
     "output_type": "stream",
     "text": [
      "\u001b[1mMVP Portfolio Weights (Rolling Window):\u001b[0m\n"
     ]
    },
    {
     "data": {
      "text/html": [
       "<div>\n",
       "<style scoped>\n",
       "    .dataframe tbody tr th:only-of-type {\n",
       "        vertical-align: middle;\n",
       "    }\n",
       "\n",
       "    .dataframe tbody tr th {\n",
       "        vertical-align: top;\n",
       "    }\n",
       "\n",
       "    .dataframe thead th {\n",
       "        text-align: right;\n",
       "    }\n",
       "</style>\n",
       "<table border=\"1\" class=\"dataframe\">\n",
       "  <thead>\n",
       "    <tr style=\"text-align: right;\">\n",
       "      <th></th>\n",
       "      <th>MMM</th>\n",
       "      <th>AOS</th>\n",
       "      <th>ABT</th>\n",
       "      <th>ADM</th>\n",
       "      <th>ADBE</th>\n",
       "      <th>ADP</th>\n",
       "      <th>AES</th>\n",
       "      <th>AFL</th>\n",
       "      <th>A</th>\n",
       "      <th>AKAM</th>\n",
       "    </tr>\n",
       "  </thead>\n",
       "  <tbody>\n",
       "    <tr>\n",
       "      <th>0</th>\n",
       "      <td>-0.141167</td>\n",
       "      <td>0.236069</td>\n",
       "      <td>0.220414</td>\n",
       "      <td>0.322850</td>\n",
       "      <td>-0.099620</td>\n",
       "      <td>-0.013241</td>\n",
       "      <td>-0.007255</td>\n",
       "      <td>-0.045783</td>\n",
       "      <td>0.152928</td>\n",
       "      <td>0.374805</td>\n",
       "    </tr>\n",
       "    <tr>\n",
       "      <th>1</th>\n",
       "      <td>-0.155294</td>\n",
       "      <td>0.202632</td>\n",
       "      <td>0.127551</td>\n",
       "      <td>0.298854</td>\n",
       "      <td>-0.023527</td>\n",
       "      <td>-0.010270</td>\n",
       "      <td>0.059756</td>\n",
       "      <td>-0.034540</td>\n",
       "      <td>0.167073</td>\n",
       "      <td>0.367765</td>\n",
       "    </tr>\n",
       "    <tr>\n",
       "      <th>2</th>\n",
       "      <td>-0.177819</td>\n",
       "      <td>0.195055</td>\n",
       "      <td>0.141888</td>\n",
       "      <td>0.310799</td>\n",
       "      <td>-0.016891</td>\n",
       "      <td>-0.010816</td>\n",
       "      <td>0.001620</td>\n",
       "      <td>-0.023935</td>\n",
       "      <td>0.183494</td>\n",
       "      <td>0.396605</td>\n",
       "    </tr>\n",
       "    <tr>\n",
       "      <th>3</th>\n",
       "      <td>-0.237863</td>\n",
       "      <td>0.266080</td>\n",
       "      <td>0.132888</td>\n",
       "      <td>0.243926</td>\n",
       "      <td>-0.111207</td>\n",
       "      <td>-0.022003</td>\n",
       "      <td>0.121549</td>\n",
       "      <td>-0.031920</td>\n",
       "      <td>0.215780</td>\n",
       "      <td>0.422771</td>\n",
       "    </tr>\n",
       "    <tr>\n",
       "      <th>4</th>\n",
       "      <td>-0.260286</td>\n",
       "      <td>0.221617</td>\n",
       "      <td>0.177954</td>\n",
       "      <td>0.293856</td>\n",
       "      <td>-0.182197</td>\n",
       "      <td>-0.039964</td>\n",
       "      <td>0.122566</td>\n",
       "      <td>-0.020754</td>\n",
       "      <td>0.249053</td>\n",
       "      <td>0.438155</td>\n",
       "    </tr>\n",
       "    <tr>\n",
       "      <th>...</th>\n",
       "      <td>...</td>\n",
       "      <td>...</td>\n",
       "      <td>...</td>\n",
       "      <td>...</td>\n",
       "      <td>...</td>\n",
       "      <td>...</td>\n",
       "      <td>...</td>\n",
       "      <td>...</td>\n",
       "      <td>...</td>\n",
       "      <td>...</td>\n",
       "    </tr>\n",
       "    <tr>\n",
       "      <th>210</th>\n",
       "      <td>0.173551</td>\n",
       "      <td>0.466087</td>\n",
       "      <td>0.096251</td>\n",
       "      <td>0.292627</td>\n",
       "      <td>0.298711</td>\n",
       "      <td>-0.075437</td>\n",
       "      <td>0.051505</td>\n",
       "      <td>0.156250</td>\n",
       "      <td>-0.212752</td>\n",
       "      <td>-0.246793</td>\n",
       "    </tr>\n",
       "    <tr>\n",
       "      <th>211</th>\n",
       "      <td>0.135289</td>\n",
       "      <td>0.442173</td>\n",
       "      <td>0.073793</td>\n",
       "      <td>0.296635</td>\n",
       "      <td>0.336382</td>\n",
       "      <td>-0.068405</td>\n",
       "      <td>0.047107</td>\n",
       "      <td>0.162793</td>\n",
       "      <td>-0.214248</td>\n",
       "      <td>-0.211519</td>\n",
       "    </tr>\n",
       "    <tr>\n",
       "      <th>212</th>\n",
       "      <td>0.222517</td>\n",
       "      <td>0.468698</td>\n",
       "      <td>0.009242</td>\n",
       "      <td>0.287944</td>\n",
       "      <td>0.375156</td>\n",
       "      <td>-0.085944</td>\n",
       "      <td>0.062775</td>\n",
       "      <td>0.167734</td>\n",
       "      <td>-0.248523</td>\n",
       "      <td>-0.259599</td>\n",
       "    </tr>\n",
       "    <tr>\n",
       "      <th>213</th>\n",
       "      <td>0.197748</td>\n",
       "      <td>0.483314</td>\n",
       "      <td>-0.004008</td>\n",
       "      <td>0.270186</td>\n",
       "      <td>0.375069</td>\n",
       "      <td>-0.082022</td>\n",
       "      <td>0.062064</td>\n",
       "      <td>0.170134</td>\n",
       "      <td>-0.237937</td>\n",
       "      <td>-0.234547</td>\n",
       "    </tr>\n",
       "    <tr>\n",
       "      <th>214</th>\n",
       "      <td>0.163440</td>\n",
       "      <td>0.466875</td>\n",
       "      <td>-0.004848</td>\n",
       "      <td>0.289822</td>\n",
       "      <td>0.374478</td>\n",
       "      <td>-0.088904</td>\n",
       "      <td>0.041962</td>\n",
       "      <td>0.166805</td>\n",
       "      <td>-0.258059</td>\n",
       "      <td>-0.151572</td>\n",
       "    </tr>\n",
       "  </tbody>\n",
       "</table>\n",
       "<p>215 rows × 10 columns</p>\n",
       "</div>"
      ],
      "text/plain": [
       "          MMM       AOS       ABT       ADM      ADBE       ADP       AES  \\\n",
       "0   -0.141167  0.236069  0.220414  0.322850 -0.099620 -0.013241 -0.007255   \n",
       "1   -0.155294  0.202632  0.127551  0.298854 -0.023527 -0.010270  0.059756   \n",
       "2   -0.177819  0.195055  0.141888  0.310799 -0.016891 -0.010816  0.001620   \n",
       "3   -0.237863  0.266080  0.132888  0.243926 -0.111207 -0.022003  0.121549   \n",
       "4   -0.260286  0.221617  0.177954  0.293856 -0.182197 -0.039964  0.122566   \n",
       "..        ...       ...       ...       ...       ...       ...       ...   \n",
       "210  0.173551  0.466087  0.096251  0.292627  0.298711 -0.075437  0.051505   \n",
       "211  0.135289  0.442173  0.073793  0.296635  0.336382 -0.068405  0.047107   \n",
       "212  0.222517  0.468698  0.009242  0.287944  0.375156 -0.085944  0.062775   \n",
       "213  0.197748  0.483314 -0.004008  0.270186  0.375069 -0.082022  0.062064   \n",
       "214  0.163440  0.466875 -0.004848  0.289822  0.374478 -0.088904  0.041962   \n",
       "\n",
       "          AFL         A      AKAM  \n",
       "0   -0.045783  0.152928  0.374805  \n",
       "1   -0.034540  0.167073  0.367765  \n",
       "2   -0.023935  0.183494  0.396605  \n",
       "3   -0.031920  0.215780  0.422771  \n",
       "4   -0.020754  0.249053  0.438155  \n",
       "..        ...       ...       ...  \n",
       "210  0.156250 -0.212752 -0.246793  \n",
       "211  0.162793 -0.214248 -0.211519  \n",
       "212  0.167734 -0.248523 -0.259599  \n",
       "213  0.170134 -0.237937 -0.234547  \n",
       "214  0.166805 -0.258059 -0.151572  \n",
       "\n",
       "[215 rows x 10 columns]"
      ]
     },
     "execution_count": 26,
     "metadata": {},
     "output_type": "execute_result"
    }
   ],
   "source": [
    "# Display the DataFrames\n",
    "print(\"\\033[1mMVP Portfolio Weights (Rolling Window):\\033[0m\")\n",
    "mvp_weights_df"
   ]
  },
  {
   "cell_type": "code",
   "execution_count": 27,
   "id": "3f5f213a",
   "metadata": {
    "scrolled": false
   },
   "outputs": [
    {
     "name": "stdout",
     "output_type": "stream",
     "text": [
      "\u001b[1mGMV Portfolio Weights (Rolling Window):\u001b[0m\n"
     ]
    },
    {
     "data": {
      "text/html": [
       "<div>\n",
       "<style scoped>\n",
       "    .dataframe tbody tr th:only-of-type {\n",
       "        vertical-align: middle;\n",
       "    }\n",
       "\n",
       "    .dataframe tbody tr th {\n",
       "        vertical-align: top;\n",
       "    }\n",
       "\n",
       "    .dataframe thead th {\n",
       "        text-align: right;\n",
       "    }\n",
       "</style>\n",
       "<table border=\"1\" class=\"dataframe\">\n",
       "  <thead>\n",
       "    <tr style=\"text-align: right;\">\n",
       "      <th></th>\n",
       "      <th>MMM</th>\n",
       "      <th>AOS</th>\n",
       "      <th>ABT</th>\n",
       "      <th>ADM</th>\n",
       "      <th>ADBE</th>\n",
       "      <th>ADP</th>\n",
       "      <th>AES</th>\n",
       "      <th>AFL</th>\n",
       "      <th>A</th>\n",
       "      <th>AKAM</th>\n",
       "    </tr>\n",
       "  </thead>\n",
       "  <tbody>\n",
       "    <tr>\n",
       "      <th>0</th>\n",
       "      <td>0.001597</td>\n",
       "      <td>0.286060</td>\n",
       "      <td>0.024503</td>\n",
       "      <td>0.050030</td>\n",
       "      <td>0.097276</td>\n",
       "      <td>0.009005</td>\n",
       "      <td>0.092063</td>\n",
       "      <td>-0.013632</td>\n",
       "      <td>0.105747</td>\n",
       "      <td>0.347352</td>\n",
       "    </tr>\n",
       "    <tr>\n",
       "      <th>1</th>\n",
       "      <td>-0.013992</td>\n",
       "      <td>0.261639</td>\n",
       "      <td>-0.012994</td>\n",
       "      <td>0.045794</td>\n",
       "      <td>0.134729</td>\n",
       "      <td>0.006087</td>\n",
       "      <td>0.125240</td>\n",
       "      <td>-0.005755</td>\n",
       "      <td>0.118217</td>\n",
       "      <td>0.341035</td>\n",
       "    </tr>\n",
       "    <tr>\n",
       "      <th>2</th>\n",
       "      <td>-0.000454</td>\n",
       "      <td>0.261205</td>\n",
       "      <td>-0.021672</td>\n",
       "      <td>0.028090</td>\n",
       "      <td>0.149145</td>\n",
       "      <td>0.003969</td>\n",
       "      <td>0.175297</td>\n",
       "      <td>-0.012536</td>\n",
       "      <td>0.111685</td>\n",
       "      <td>0.305272</td>\n",
       "    </tr>\n",
       "    <tr>\n",
       "      <th>3</th>\n",
       "      <td>-0.006881</td>\n",
       "      <td>0.272129</td>\n",
       "      <td>-0.021531</td>\n",
       "      <td>-0.005570</td>\n",
       "      <td>0.187949</td>\n",
       "      <td>0.005376</td>\n",
       "      <td>0.186466</td>\n",
       "      <td>-0.019177</td>\n",
       "      <td>0.125253</td>\n",
       "      <td>0.275986</td>\n",
       "    </tr>\n",
       "    <tr>\n",
       "      <th>4</th>\n",
       "      <td>-0.010807</td>\n",
       "      <td>0.273469</td>\n",
       "      <td>-0.019474</td>\n",
       "      <td>0.010603</td>\n",
       "      <td>0.187241</td>\n",
       "      <td>0.005388</td>\n",
       "      <td>0.189002</td>\n",
       "      <td>-0.020864</td>\n",
       "      <td>0.125870</td>\n",
       "      <td>0.259571</td>\n",
       "    </tr>\n",
       "    <tr>\n",
       "      <th>...</th>\n",
       "      <td>...</td>\n",
       "      <td>...</td>\n",
       "      <td>...</td>\n",
       "      <td>...</td>\n",
       "      <td>...</td>\n",
       "      <td>...</td>\n",
       "      <td>...</td>\n",
       "      <td>...</td>\n",
       "      <td>...</td>\n",
       "      <td>...</td>\n",
       "    </tr>\n",
       "    <tr>\n",
       "      <th>210</th>\n",
       "      <td>0.066499</td>\n",
       "      <td>0.378109</td>\n",
       "      <td>0.041677</td>\n",
       "      <td>0.236246</td>\n",
       "      <td>0.247246</td>\n",
       "      <td>-0.044336</td>\n",
       "      <td>0.072986</td>\n",
       "      <td>0.190715</td>\n",
       "      <td>-0.186843</td>\n",
       "      <td>-0.002299</td>\n",
       "    </tr>\n",
       "    <tr>\n",
       "      <th>211</th>\n",
       "      <td>0.058560</td>\n",
       "      <td>0.375100</td>\n",
       "      <td>0.034354</td>\n",
       "      <td>0.247517</td>\n",
       "      <td>0.278103</td>\n",
       "      <td>-0.042383</td>\n",
       "      <td>0.068770</td>\n",
       "      <td>0.189653</td>\n",
       "      <td>-0.191614</td>\n",
       "      <td>-0.018060</td>\n",
       "    </tr>\n",
       "    <tr>\n",
       "      <th>212</th>\n",
       "      <td>0.106062</td>\n",
       "      <td>0.389756</td>\n",
       "      <td>-0.032399</td>\n",
       "      <td>0.232470</td>\n",
       "      <td>0.301182</td>\n",
       "      <td>-0.051017</td>\n",
       "      <td>0.080238</td>\n",
       "      <td>0.200168</td>\n",
       "      <td>-0.207131</td>\n",
       "      <td>-0.019330</td>\n",
       "    </tr>\n",
       "    <tr>\n",
       "      <th>213</th>\n",
       "      <td>0.107414</td>\n",
       "      <td>0.428699</td>\n",
       "      <td>-0.029720</td>\n",
       "      <td>0.209060</td>\n",
       "      <td>0.331169</td>\n",
       "      <td>-0.065180</td>\n",
       "      <td>0.075127</td>\n",
       "      <td>0.196716</td>\n",
       "      <td>-0.222089</td>\n",
       "      <td>-0.031196</td>\n",
       "    </tr>\n",
       "    <tr>\n",
       "      <th>214</th>\n",
       "      <td>0.092127</td>\n",
       "      <td>0.427396</td>\n",
       "      <td>-0.024417</td>\n",
       "      <td>0.240679</td>\n",
       "      <td>0.334937</td>\n",
       "      <td>-0.074755</td>\n",
       "      <td>0.055400</td>\n",
       "      <td>0.190545</td>\n",
       "      <td>-0.243119</td>\n",
       "      <td>0.001207</td>\n",
       "    </tr>\n",
       "  </tbody>\n",
       "</table>\n",
       "<p>215 rows × 10 columns</p>\n",
       "</div>"
      ],
      "text/plain": [
       "          MMM       AOS       ABT       ADM      ADBE       ADP       AES  \\\n",
       "0    0.001597  0.286060  0.024503  0.050030  0.097276  0.009005  0.092063   \n",
       "1   -0.013992  0.261639 -0.012994  0.045794  0.134729  0.006087  0.125240   \n",
       "2   -0.000454  0.261205 -0.021672  0.028090  0.149145  0.003969  0.175297   \n",
       "3   -0.006881  0.272129 -0.021531 -0.005570  0.187949  0.005376  0.186466   \n",
       "4   -0.010807  0.273469 -0.019474  0.010603  0.187241  0.005388  0.189002   \n",
       "..        ...       ...       ...       ...       ...       ...       ...   \n",
       "210  0.066499  0.378109  0.041677  0.236246  0.247246 -0.044336  0.072986   \n",
       "211  0.058560  0.375100  0.034354  0.247517  0.278103 -0.042383  0.068770   \n",
       "212  0.106062  0.389756 -0.032399  0.232470  0.301182 -0.051017  0.080238   \n",
       "213  0.107414  0.428699 -0.029720  0.209060  0.331169 -0.065180  0.075127   \n",
       "214  0.092127  0.427396 -0.024417  0.240679  0.334937 -0.074755  0.055400   \n",
       "\n",
       "          AFL         A      AKAM  \n",
       "0   -0.013632  0.105747  0.347352  \n",
       "1   -0.005755  0.118217  0.341035  \n",
       "2   -0.012536  0.111685  0.305272  \n",
       "3   -0.019177  0.125253  0.275986  \n",
       "4   -0.020864  0.125870  0.259571  \n",
       "..        ...       ...       ...  \n",
       "210  0.190715 -0.186843 -0.002299  \n",
       "211  0.189653 -0.191614 -0.018060  \n",
       "212  0.200168 -0.207131 -0.019330  \n",
       "213  0.196716 -0.222089 -0.031196  \n",
       "214  0.190545 -0.243119  0.001207  \n",
       "\n",
       "[215 rows x 10 columns]"
      ]
     },
     "execution_count": 27,
     "metadata": {},
     "output_type": "execute_result"
    }
   ],
   "source": [
    "print(\"\\033[1mGMV Portfolio Weights (Rolling Window):\\033[0m\")\n",
    "gmv_weights_df"
   ]
  },
  {
   "cell_type": "markdown",
   "id": "6aa3c96f",
   "metadata": {},
   "source": [
    "**Interpretation**: when there is a negative weights, it means we short the stock."
   ]
  },
  {
   "cell_type": "markdown",
   "id": "455a3382",
   "metadata": {},
   "source": [
    "## <span style=\"color:green\">Question 3 of Assignment 4</span>"
   ]
  },
  {
   "cell_type": "markdown",
   "id": "1edd2330-65cb-4d18-b2c1-265aba4556e0",
   "metadata": {},
   "source": [
    "We compute the out-of-sample portfolio returns with the time-series of portfolio weights for each of the 2 portfolio strategies, e.g. at each time $t$, we compute the out-of-sample return in month $t + 1$."
   ]
  },
  {
   "cell_type": "code",
   "execution_count": 28,
   "id": "83681eeb-19f8-4d77-903a-eb3038f65f59",
   "metadata": {
    "tags": []
   },
   "outputs": [],
   "source": [
    "# We define a function to compute portfolio returns\n",
    "def portfolio_returns(weights, returns):\n",
    "    portfolio_returns = np.dot(returns, weights)\n",
    "    return portfolio_returns"
   ]
  },
  {
   "cell_type": "markdown",
   "id": "4cc302dd",
   "metadata": {},
   "source": [
    "We use the function `portfolio_returns` to compute the out-of-sample returns"
   ]
  },
  {
   "cell_type": "code",
   "execution_count": 29,
   "id": "eb1de8d5-3c97-41d1-aa32-1c9e09c63996",
   "metadata": {
    "tags": []
   },
   "outputs": [],
   "source": [
    "mvp_returns_list = []\n",
    "gmv_returns_list = []\n",
    "\n",
    "# We calculate out-of-sample returns using the time-series of weights\n",
    "for i in range(T_est, len(log_return_matrix)):\n",
    "    current_returns = log_return_matrix.iloc[i, :]\n",
    "\n",
    "    # MVP portfolio returns\n",
    "    mvp_returns = portfolio_returns(current_returns, mvp_weights_df.iloc[i - T_est])\n",
    "    mvp_returns_list.append(mvp_returns)\n",
    "\n",
    "    # GMV portfolio returns\n",
    "    gmv_returns = portfolio_returns(current_returns, gmv_weights_df.iloc[i - T_est])\n",
    "    gmv_returns_list.append(gmv_returns)\n",
    "\n",
    "# We convert the lists to NumPy arrays\n",
    "MVP_returns = np.array(mvp_returns_list)\n",
    "GMV_returns = np.array(gmv_returns_list)\n",
    "\n",
    "\n",
    "dates = log_return_matrix.index[T_est:]  # We skip the first T_est periods for out-of-sample returns"
   ]
  },
  {
   "cell_type": "markdown",
   "id": "309dbc0a",
   "metadata": {},
   "source": [
    "We display our results:"
   ]
  },
  {
   "cell_type": "code",
   "execution_count": 30,
   "id": "6f0e2447-3847-46ed-9ee3-76aaaeb11515",
   "metadata": {
    "tags": []
   },
   "outputs": [
    {
     "name": "stdout",
     "output_type": "stream",
     "text": [
      "+------------+-------------------------+-------------------------+\n",
      "|   Dates    |       MVP Returns       |       GMV Returns       |\n",
      "+------------+-------------------------+-------------------------+\n",
      "| 2005-02-28 |   0.01355111301050621   |  0.0051578750937971585  |\n",
      "| 2005-03-31 |  0.047174026193409706   |   0.02467718292831757   |\n",
      "| 2005-04-30 |  -0.13456501197473159   |  -0.015263116932976955  |\n",
      "| 2005-05-31 |  0.021839987749821307   |  0.007509193042405004   |\n",
      "| 2005-06-30 |  -0.045623803946096414  |  -0.024647625100376158  |\n",
      "| 2005-07-31 |   0.01762506713593867   |  0.015983313270756718   |\n",
      "| 2005-08-31 |  -0.03252432580832857   |  -0.024345496231064613  |\n",
      "| 2005-09-30 |   0.05247996539019422   |  -0.005021986043345195  |\n",
      "| 2005-10-31 |  0.035626441520479314   |   0.04835761444490806   |\n",
      "| 2005-11-30 |   0.00428074443206097   |  -0.023002004032290024  |\n",
      "| 2005-12-31 |  0.019137158640962437   |  -0.012340686186579564  |\n",
      "| 2006-01-31 |   0.2514642965870939    |   0.04368601392164872   |\n",
      "| 2006-02-28 |  -0.008186552413462361  |  0.009162270888099094   |\n",
      "| 2006-03-31 |  0.027393543800747044   |  -0.009846429506792587  |\n",
      "| 2006-04-30 |    0.068666217715951    |  0.029841772732677522   |\n",
      "| 2006-05-31 |  0.031543359221964204   |  0.022108315790624285   |\n",
      "| 2006-06-30 |  0.0077332715421437066  |  -0.02314630984515638   |\n",
      "| 2006-07-31 |  -0.006371112017409385  |  -0.03631218652718547   |\n",
      "| 2006-08-31 |  -0.06150591222835045   |   0.02107302898983437   |\n",
      "| 2006-09-30 |  -0.003367122944034103  |  -0.018451722559529343  |\n",
      "| 2006-10-31 |  -0.028539242797427353  |  0.010333517593898878   |\n",
      "| 2006-11-30 |  -0.013159120794348552  |   -0.016774436255968    |\n",
      "| 2006-12-31 |  -0.024700014409655517  |  0.017210705804973657   |\n",
      "| 2007-01-31 |   0.03970673762688283   |  0.022601828870169732   |\n",
      "| 2007-02-28 |  8.584518743096417e-05  |  0.018704477219117104   |\n",
      "| 2007-03-31 |   0.02159997060946102   |  0.009183614705430724   |\n",
      "| 2007-04-30 |   0.06743634811491177   |   0.06690523077281896   |\n",
      "| 2007-05-31 |  -0.030368006186029122  |  0.036501597353346474   |\n",
      "| 2007-06-30 |  -0.03000016158850008   |  -0.028251239501491623  |\n",
      "| 2007-07-31 |   -0.069668699270855    |  0.006534791613278759   |\n",
      "| 2007-08-31 |  0.005174076051353244   |  0.013125158200931053   |\n",
      "| 2007-09-30 |  0.042679420289399944   |   0.03686355475652038   |\n",
      "| 2007-10-31 |   0.09824366180894362   |  0.014511701465884718   |\n",
      "| 2007-11-30 | -0.0055863077149054165  | -0.0033099785941555666  |\n",
      "| 2007-12-31 |  0.031107342785132205   |  0.0033475977890129204  |\n",
      "| 2008-01-31 |  -0.059431623512019874  |  -0.02832867019522392   |\n",
      "| 2008-02-29 |  0.018213475222432527   |  -0.015158971622125319  |\n",
      "| 2008-03-31 |  -0.024927662973288182  |   0.03302580683968721   |\n",
      "| 2008-04-30 |   0.05690791650367499   |  -0.009226078629256229  |\n",
      "| 2008-05-31 | -0.00025259822553107096 |  0.017982294046931656   |\n",
      "| 2008-06-30 |  -0.08895610785271917   |   -0.0645193245426785   |\n",
      "| 2008-07-31 |   -0.1837234939053075   |  0.0018628293532557422  |\n",
      "| 2008-08-31 |  -0.028610190015906336  |  0.016910544934225256   |\n",
      "| 2008-09-30 |  -0.08617802005230536   |  -0.02207399250973496   |\n",
      "| 2008-10-31 |   -0.4234861126648704   |  -0.13472828476749335   |\n",
      "| 2008-11-30 |  0.039405564438805885   |   0.06600275846056912   |\n",
      "| 2008-12-31 |   0.08049213322613227   |  -0.038260796447969425  |\n",
      "| 2009-01-31 |  -0.31240235913380443   |  -0.028027503514876033  |\n",
      "| 2009-02-28 |   0.07230567272144543   |  -0.11153678937935799   |\n",
      "| 2009-03-31 |  -0.003852898838707139  |   0.0131378634449402    |\n",
      "| 2009-04-30 |  -0.37508993969149146   |  -0.05953062974317841   |\n",
      "| 2009-05-31 |  -0.04729464421209123   |   0.03612429472324693   |\n",
      "| 2009-06-30 |   -0.099832079176316    |  0.011646187453101909   |\n",
      "| 2009-07-31 |  -0.04244348253731958   |  0.018978532364478974   |\n",
      "| 2009-08-31 |  -0.13145299101419977   |  0.023419977172756103   |\n",
      "| 2009-09-30 |   0.03139241538693266   |   0.05605025793448633   |\n",
      "| 2009-10-31 |  0.039634095224228685   |   0.03915331456886245   |\n",
      "| 2009-11-30 |   0.03340175223319525   |   0.07601262612845827   |\n",
      "| 2009-12-31 |  -0.026727613105087773  |   0.01805528063474498   |\n",
      "| 2010-01-31 |   0.03340064945110207   |  -0.009583794385010827  |\n",
      "| 2010-02-28 |   0.2015679220752376    |  0.014150493491032215   |\n",
      "| 2010-03-31 |   0.18098473811593788   |   0.04065882794434963   |\n",
      "| 2010-04-30 |  0.025419716728624805   |   0.03663201543114331   |\n",
      "| 2010-05-31 |  -0.07521440545600613   |  -0.07333919719334703   |\n",
      "| 2010-06-30 |   0.10508712790436706   |  0.028533211498952275   |\n",
      "| 2010-07-31 |  -0.011133769217256603  |   0.04877057501666244   |\n",
      "| 2010-08-31 |  0.030998925476692432   |  -0.016463080189128176  |\n",
      "| 2010-09-30 |   0.07133038204054122   |   0.07847775430138472   |\n",
      "| 2010-10-31 |   -0.0688528495252094   |  -0.019946563913553206  |\n",
      "| 2010-11-30 | -0.0029091158601132136  |  -0.03012081742749223   |\n",
      "| 2010-12-31 |  -0.12113043324592897   |  -0.019790893020392136  |\n",
      "| 2011-01-31 |  -0.023895443255000547  | -0.0013477536842556592  |\n",
      "| 2011-02-28 |  -0.06840015585152967   |  0.027360030275640726   |\n",
      "| 2011-03-31 |  0.013886305042737988   |   0.03280558356996056   |\n",
      "| 2011-04-30 |   0.13403534711427217   |  0.025692415986804495   |\n",
      "| 2011-05-31 |  -0.01657420536010005   |  -0.000748431212995752  |\n",
      "| 2011-06-30 |   0.03173661471617213   |  -0.01086472408230833   |\n",
      "| 2011-07-31 |  -0.07402166302546292   |  -0.04250836350305161   |\n",
      "| 2011-08-31 |   0.03338290390406204   |   0.01650662891254094   |\n",
      "| 2011-09-30 |  -0.08447491327448442   |  -0.07462324491469162   |\n",
      "| 2011-10-31 |   0.01355001276743864   |   0.0807087842405589    |\n",
      "| 2011-11-30 |  -0.00987907312612523   |  0.024855092060744988   |\n",
      "| 2011-12-31 |   0.05216775604845175   |   0.06810928887869949   |\n",
      "| 2012-01-31 |  -0.031418267561520476  |  -0.036934310077803914  |\n",
      "| 2012-02-29 |  -0.03202886394914532   |   0.04196107450919332   |\n",
      "| 2012-03-31 |   0.05662714648806227   |   0.05447819970342082   |\n",
      "| 2012-04-30 |   0.06185584147793491   |   0.01992115418707835   |\n",
      "| 2012-05-31 |  -0.03113086731993271   |  -0.03126498501513697   |\n",
      "| 2012-06-30 |   0.02597000808385531   |   0.07363539313081235   |\n",
      "| 2012-07-31 |   0.0942568306517964    |   0.03800078757754852   |\n",
      "| 2012-08-31 |   0.07518364808639416   |  0.019770419820832916   |\n",
      "| 2012-09-30 |   0.07457368946265534   |  0.022425192652069364   |\n",
      "| 2012-10-31 |  0.007058180412186647   |  -0.032895319730686726  |\n",
      "| 2012-11-30 |  -0.017031481705273882  |  -0.011716170941971341  |\n",
      "| 2012-12-31 |  -0.005746794050007931  |  0.014532885950238404   |\n",
      "| 2013-01-31 |   0.09525898575292624   |   0.06695387062273882   |\n",
      "| 2013-02-28 |  -0.007743919263961556  |   0.03802529704192754   |\n",
      "| 2013-03-31 |  0.031464394319333296   |   0.04023800144121357   |\n",
      "| 2013-04-30 |  0.058904065496766744   |   0.05117427089170612   |\n",
      "| 2013-05-31 |   0.0318701744172388    |  0.010233011572813297   |\n",
      "| 2013-06-30 |  -0.07172057747021318   |  -0.027764772734363032  |\n",
      "| 2013-07-31 |   0.0972177845104058    |   0.06833387390745864   |\n",
      "| 2013-08-31 |  -0.053716906676416404  |  -0.06870464289113701   |\n",
      "| 2013-09-30 |  0.020427841133525807   |   0.02130155411239014   |\n",
      "| 2013-10-31 |   0.08379530276582778   |  0.060558638442649734   |\n",
      "| 2013-11-30 |  0.051788814711893026   |   0.05165722878290713   |\n",
      "| 2013-12-31 |  0.005060241254378512   |  0.024700800978150535   |\n",
      "| 2014-01-31 |  -0.07267386581951898   |  -0.06410392933796717   |\n",
      "| 2014-02-28 |   0.07372378151168778   |   0.07587789483351515   |\n",
      "| 2014-03-31 |  -0.045463551647061465  |  -0.006048073612621817  |\n",
      "| 2014-04-30 |  0.006456102961930073   |  0.008546285602610601   |\n",
      "| 2014-05-31 |  0.046024738222150974   |   0.03249473738429459   |\n",
      "| 2014-06-30 |  -0.004048789514332334  |   0.01384889106237238   |\n",
      "| 2014-07-31 |   0.02798055294528507   |  0.037025487285093736   |\n",
      "| 2014-08-31 |   0.02502282223843956   |   0.02504100049257594   |\n",
      "| 2014-09-30 |   0.01506944579511214   |  0.0020829916221677194  |\n",
      "| 2014-10-31 |   0.10172686801241342   |   0.07711866113081169   |\n",
      "| 2014-11-30 |   0.06972178519833308   |  0.053052976242105795   |\n",
      "| 2014-12-31 |  -0.020501371676641417  |  -0.016855666232732464  |\n",
      "| 2015-01-31 |  0.014127857320244661   |  -0.026835452491962484  |\n",
      "| 2015-02-28 |   0.07002180733982451   |   0.06668738356719851   |\n",
      "| 2015-03-31 |  -0.03413731965429391   |  -0.03204577326354541   |\n",
      "| 2015-04-30 |  0.006532255106349764   |  0.004312869449770509   |\n",
      "| 2015-05-31 |   0.0573674671844167    |  0.036345846452562725   |\n",
      "| 2015-06-30 |  -0.04353279930802954   |  -0.04631521476432103   |\n",
      "| 2015-07-31 |  0.017937038383465158   |  0.011286239754491719   |\n",
      "| 2015-08-31 |  -0.07733570334885095   |  -0.06785930195309432   |\n",
      "| 2015-09-30 |  0.014734834622914056   |  -0.031527642578279017  |\n",
      "| 2015-10-31 |   0.10988409660460685   |   0.09049869673482175   |\n",
      "| 2015-11-30 | -0.0005000751931879439  |  -0.03213437857802863   |\n",
      "| 2015-12-31 |   0.01775784324902172   |  -0.00898870960476967   |\n",
      "| 2016-01-31 |  -0.09177293936622516   |  -0.06326982657712499   |\n",
      "| 2016-02-29 |  -0.014883713911674396  |   0.02679660854291079   |\n",
      "| 2016-03-31 |   0.06692052595886641   |   0.07130944483607221   |\n",
      "| 2016-04-30 |  -0.029436604784467815  |  -0.017517911943535157  |\n",
      "| 2016-05-31 |  0.014440657698085835   |  -0.004983017328728575  |\n",
      "| 2016-06-30 |  0.010527018844873268   |  0.020593160142492812   |\n",
      "| 2016-07-31 |  0.004228548828564889   |  0.020686885632436126   |\n",
      "| 2016-08-31 |   0.01405891641598668   |  -0.02115201792686599   |\n",
      "| 2016-09-30 |  0.005507812207510796   |  -0.019543311448129576  |\n",
      "| 2016-10-31 |  -0.03069497769753935   |  -0.030634606177612343  |\n",
      "| 2016-11-30 |   0.05723700546039316   |   0.05162539705654916   |\n",
      "| 2016-12-31 |   0.04634460767709675   |   0.05276042251091547   |\n",
      "| 2017-01-31 |  0.014322262132286165   |  0.006688202977195008   |\n",
      "| 2017-02-28 |   0.0329078058494874    |   0.03937496951927782   |\n",
      "| 2017-03-31 |  0.038121703097560126   |  0.008982805155690379   |\n",
      "| 2017-04-30 |   0.02580502684384013   |  0.014522776611534708   |\n",
      "| 2017-05-31 | -0.0017505728653395003  |  -0.004454923150636763  |\n",
      "| 2017-06-30 |   0.00799143850150507   |  0.011580659840688366   |\n",
      "| 2017-07-31 |   0.07429477987935143   |   0.09142446816423994   |\n",
      "| 2017-08-31 |  -0.013917327148920496  |  -0.013187071729547323  |\n",
      "| 2017-09-30 |  0.002416515160798915   |  0.002984114774425976   |\n",
      "| 2017-10-31 |   0.10228764801083193   |   0.07910361563346327   |\n",
      "| 2017-11-30 |  0.024899237355639668   |  0.021220669305269214   |\n",
      "| 2017-12-31 |  -0.010839971362650172  |  0.008054252502198541   |\n",
      "| 2018-01-31 |   0.07943123955308348   |   0.05284939549822597   |\n",
      "| 2018-02-28 |  -0.02620985323057545   |  -0.034554524219650246  |\n",
      "| 2018-03-31 |  -0.008801506485730227  |  -0.01618748708791405   |\n",
      "| 2018-04-30 |  0.011822709234106273   |  0.013481868224188488   |\n",
      "| 2018-05-31 |   0.06845420117170567   |   0.03807519512954609   |\n",
      "| 2018-06-30 |  -0.009096352655718728  |  0.004024264926551471   |\n",
      "| 2018-07-31 |  0.015369709984444618   |   0.05664767790950137   |\n",
      "| 2018-08-31 |  0.062129146011444716   |   0.03835455145983292   |\n",
      "| 2018-09-30 |  0.021642631856632098   |   0.03534903778189426   |\n",
      "| 2018-10-31 |   -0.089174416675072    |  -0.06510818375926607   |\n",
      "| 2018-11-30 |   0.01942647822736162   |   0.04496702070940446   |\n",
      "| 2018-12-31 |  -0.08417983247387893   |  -0.06595493750495145   |\n",
      "| 2019-01-31 |   0.02048609459669317   |  0.048821595999236134   |\n",
      "| 2019-02-28 |   0.0607479061932958    |   0.03816098372256856   |\n",
      "| 2019-03-31 |   0.03023302093218434   |  0.020861182601203315   |\n",
      "| 2019-04-30 |   0.0726364459856722    |  0.017283579575380938   |\n",
      "| 2019-05-31 |  0.029781280555254953   |  0.0017398449060835978  |\n",
      "| 2019-06-30 |   0.05325023065380735   |   0.05081542891645659   |\n",
      "| 2019-07-31 |  0.011404529462929861   |  0.017063269082907735   |\n",
      "| 2019-08-31 |  -0.04028689316216821   |  -0.060572419803303065  |\n",
      "| 2019-09-30 |  -0.038159450654440236  |  0.0024414682391686133  |\n",
      "| 2019-10-31 |  0.009631382752083355   |  0.005491085176631409   |\n",
      "| 2019-11-30 |   0.06273859209016754   |  0.047828229437404064   |\n",
      "| 2019-12-31 |  -0.017570946138569396  |  -0.002921800157575453  |\n",
      "| 2020-01-31 |  0.048473892862705356   | -0.00014074233010276296 |\n",
      "| 2020-02-29 |  -0.13153722368437998   |   -0.141606185788197    |\n",
      "| 2020-03-31 |  -0.14480224776033956   |  -0.12541081236022247   |\n",
      "| 2020-04-30 |   0.10856507419359049   |   0.10106804729985053   |\n",
      "| 2020-05-31 |   0.05107528691422708   |   0.03140572619845334   |\n",
      "| 2020-06-30 |   0.04871731241051455   |   0.01813084067098283   |\n",
      "| 2020-07-31 |  -0.004709387358957949  |  -0.009581227072889012  |\n",
      "| 2020-08-31 |   0.09306719963184794   |   0.0705836159117398    |\n",
      "| 2020-09-30 |  -0.037168387875971334  |  -0.026586209488820924  |\n",
      "| 2020-10-31 |  -0.023435148428483352  |  -0.02084788442093702   |\n",
      "| 2020-11-30 |   0.0943254730013493    |   0.12074578238448735   |\n",
      "| 2020-12-31 |  0.036378645975259576   |  0.025446779623899775   |\n",
      "| 2021-01-31 |  0.007260778030468117   |   0.01873526558179647   |\n",
      "| 2021-02-28 |  -0.02278694945218999   |  -0.013213956451728005  |\n",
      "| 2021-03-31 |   0.02726821215039882   |  0.038541282950042416   |\n",
      "| 2021-04-30 |   0.03151374614043099   |  0.033619405125159145   |\n",
      "| 2021-05-31 | 0.00021065863123291215  |  0.0076649243493327615  |\n",
      "| 2021-06-30 |   0.04151961877158719   |   0.01687737880993364   |\n",
      "| 2021-07-31 |  0.044779653410457365   |   0.03463599510885305   |\n",
      "| 2021-08-31 |   0.03623473164815376   |   0.02142154136680997   |\n",
      "| 2021-09-30 |  -0.058659225822770146  |  -0.05740844601378449   |\n",
      "| 2021-10-31 |   0.05974432520256624   |   0.05679585290803518   |\n",
      "| 2021-11-30 |  -0.017339926683806108  |  -0.018260460137557718  |\n",
      "| 2021-12-31 |   0.0680567078027375    |   0.07408439003280368   |\n",
      "| 2022-01-31 |   -0.0880865338351811   |   -0.0777918892822283   |\n",
      "| 2022-02-28 |  -0.017595925117762166  |  -0.02236517722889618   |\n",
      "| 2022-03-31 |   0.07853299984198532   |   0.08760652092774823   |\n",
      "| 2022-04-30 |  -0.05126568330731738   |  -0.043671979859185625  |\n",
      "| 2022-05-31 |  0.017059637591555113   |  0.013277534074958582   |\n",
      "| 2022-06-30 |  -0.10354935063286513   |  -0.11034333368174823   |\n",
      "| 2022-07-31 |   0.04291846540190521   |   0.04947818912591717   |\n",
      "| 2022-08-31 |   0.01757987209811142   | -0.0038158533085945745  |\n",
      "| 2022-09-30 |  -0.06314617754643179   |  -0.06809865283745882   |\n",
      "| 2022-10-31 |   0.06904140570490096   |   0.07759769474122502   |\n",
      "| 2022-11-30 |   0.08129617264866831   |   0.06919357140390284   |\n",
      "| 2022-12-31 |  -0.04230023685979742   |  -0.04532758378775632   |\n",
      "+------------+-------------------------+-------------------------+\n"
     ]
    }
   ],
   "source": [
    "results = pd.DataFrame({\n",
    "    'Dates': dates.values,\n",
    "    'MVP Returns': MVP_returns,\n",
    "    'GMV Returns': GMV_returns,\n",
    "})\n",
    "\n",
    "results['Dates'] = results['Dates'].dt.date\n",
    "table = tabulate(results, headers='keys', tablefmt='pretty', showindex=False)\n",
    "print(table)"
   ]
  },
  {
   "cell_type": "code",
   "execution_count": 31,
   "id": "a3b4007c",
   "metadata": {},
   "outputs": [
    {
     "data": {
      "image/png": "[encoded data removed]",
      "text/plain": [
       "<Figure size 1000x600 with 1 Axes>"
      ]
     },
     "metadata": {},
     "output_type": "display_data"
    }
   ],
   "source": [
    "plt.figure(figsize=(10, 6))\n",
    "plt.plot(results['Dates'], results['MVP Returns'], label='MVP Portfolio Returns', color='red')\n",
    "plt.plot(results['Dates'], results['GMV Returns'], label='GMV Portfolio Returns', color='green')\n",
    "\n",
    "plt.title('Out-of-Sample Portfolio Returns Over Time')\n",
    "plt.xlabel('Date')\n",
    "plt.ylabel('Portfolio Returns')\n",
    "plt.legend()\n",
    "plt.grid(True)\n",
    "plt.show()"
   ]
  },
  {
   "cell_type": "markdown",
   "id": "3b1ca675",
   "metadata": {},
   "source": [
    "## <span style=\"color:green\">Question 4 of Assignment 4</span>"
   ]
  },
  {
   "cell_type": "markdown",
   "id": "c23dd983",
   "metadata": {},
   "source": [
    "We compute the Sharp ratio of the out-of-sample returns, knowing that the risk-free rate of return is zero. We annualize the Sharpe Ratio"
   ]
  },
  {
   "cell_type": "code",
   "execution_count": 32,
   "id": "be1ee3a5-5bca-40d7-aa64-c396438bc61c",
   "metadata": {
    "scrolled": true,
    "tags": []
   },
   "outputs": [
    {
     "name": "stdout",
     "output_type": "stream",
     "text": [
      "The MVP Sharpe Ratio is: 0.0738408137744433\n",
      "The GMV Sharpe Ratio is: 0.20539698470879933\n"
     ]
    }
   ],
   "source": [
    "risk_free_rate = 0\n",
    "\n",
    "MVP_sharpe_ratio = ((MVP_returns.mean() - risk_free_rate) / MVP_returns.std())\n",
    "GMV_sharpe_ratio = ((GMV_returns.mean() - risk_free_rate) / GMV_returns.std())\n",
    "\n",
    "print(\"The MVP Sharpe Ratio is:\", MVP_sharpe_ratio)\n",
    "print(\"The GMV Sharpe Ratio is:\", GMV_sharpe_ratio)"
   ]
  },
  {
   "cell_type": "code",
   "execution_count": 33,
   "id": "c4712efc",
   "metadata": {},
   "outputs": [
    {
     "name": "stdout",
     "output_type": "stream",
     "text": [
      "The annualized MVP Sharpe Ratio is: 0.2557920822591352\n",
      "The annualized GMV Sharpe Ratio is: 0.7115160264741764\n"
     ]
    }
   ],
   "source": [
    "ann_MVP_sharpe_ratio = MVP_sharpe_ratio* np.sqrt(12)\n",
    "ann_GMV_sharpe_ratio = GMV_sharpe_ratio* np.sqrt(12)\n",
    "\n",
    "print(\"The annualized MVP Sharpe Ratio is:\", ann_MVP_sharpe_ratio)\n",
    "print(\"The annualized GMV Sharpe Ratio is:\", ann_GMV_sharpe_ratio)"
   ]
  },
  {
   "cell_type": "markdown",
   "id": "dcfc6109",
   "metadata": {},
   "source": [
    "**Interpretation**: The GMV portfolio has a positive and higher Sharpe ratio. This suggests that, on a risk-adjusted basis, the GMV portfolio has performed well during the out-of-sample period.\n",
    "\n",
    "The results suggest that, based on the Sharpe ratio, the Global Minimum Variance Portfolio (GMV) strategy outperformed the Mean Variance Portfolio (MVP) strategy during the out-of-sample period. So the investors will typically prefer the GMV portfolio (higher Sharpe ratios) as it has a better risk-adjusted returns. However,we have seen in Assignment 3 that the Sharpe ratio is just one measure, and other factors such as the investor's risk tolerance and investment goals should also be considered."
   ]
  },
  {
   "cell_type": "markdown",
   "id": "37fc1fd3",
   "metadata": {},
   "source": [
    "## <span style=\"color:green\">Final step</span>"
   ]
  },
  {
   "cell_type": "markdown",
   "id": "cc95525c",
   "metadata": {},
   "source": [
    "We are finally asked to save the data we have downloaded for a future use."
   ]
  },
  {
   "cell_type": "code",
   "execution_count": 34,
   "id": "72dfd958",
   "metadata": {},
   "outputs": [
    {
     "name": "stdout",
     "output_type": "stream",
     "text": [
      "Data saved to Monthly_Log_returns_10_companies.csv\n"
     ]
    }
   ],
   "source": [
    "file_path = \"Monthly_Log_returns_10_companies.csv\"\n",
    "log_return_matrix.to_csv(file_path, index=False)\n",
    "\n",
    "print(f\"Data saved to {file_path}\")"
   ]
  },
  {
   "cell_type": "code",
   "execution_count": null,
   "id": "58c01edc",
   "metadata": {},
   "outputs": [],
   "source": []
  }
 ],
 "metadata": {
  "kernelspec": {
   "display_name": "Python 3 (ipykernel)",
   "language": "python",
   "name": "python3"
  },
  "language_info": {
   "codemirror_mode": {
    "name": "ipython",
    "version": 3
   },
   "file_extension": ".py",
   "mimetype": "text/x-python",
   "name": "python",
   "nbconvert_exporter": "python",
   "pygments_lexer": "ipython3",
   "version": "3.9.13"
  }
 },
 "nbformat": 4,
 "nbformat_minor": 5
}
