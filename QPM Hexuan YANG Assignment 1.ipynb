{
 "cells": [
  {
   "cell_type": "markdown",
   "id": "915a99bf",
   "metadata": {},
   "source": [
    "# QPM: Assignment 1"
   ]
  },
  {
   "cell_type": "markdown",
   "id": "eb52c21d",
   "metadata": {},
   "source": [
    "##  Group members: Hexuan YANG"
   ]
  },
  {
   "cell_type": "markdown",
   "id": "572317af",
   "metadata": {},
   "source": [
    "### Question 1 of Assignment 1"
   ]
  },
  {
   "cell_type": "code",
   "execution_count": 15,
   "id": "03055fca",
   "metadata": {},
   "outputs": [
    {
     "name": "stdout",
     "output_type": "stream",
     "text": [
      "True Mean Return: 10.00%\n",
      "True Volatility: 20.00%\n",
      "Generated Mean Return: 11.20%\n",
      "Generated Volatility: 20.16%\n"
     ]
    }
   ],
   "source": [
    "import numpy as np\n",
    "\n",
    "# Parameters\n",
    "mean_return = 0.10  # 10% annual mean return\n",
    "volatility = 0.20  # 20% annual volatility\n",
    "initial_price = 100  # Initial price of the asset\n",
    "years = 100  # Number of years\n",
    "\n",
    "# Generate random annual returns\n",
    "np.random.seed(0)  # Set a seed for reproducibility\n",
    "annual_returns = np.random.normal(mean_return, volatility, years)\n",
    "\n",
    "# Calculate the mean and volatility of the generated returns\n",
    "mean_generated = np.mean(annual_returns)\n",
    "volatility_generated = np.std(annual_returns)\n",
    "\n",
    "# Print the results\n",
    "print(f\"True Mean Return: {mean_return:.2%}\")\n",
    "print(f\"True Volatility: {volatility:.2%}\")\n",
    "print(f\"Generated Mean Return: {mean_generated:.2%}\")\n",
    "print(f\"Generated Volatility: {volatility_generated:.2%}\")\n"
   ]
  },
  {
   "cell_type": "markdown",
   "id": "89935ee1",
   "metadata": {},
   "source": [
    "### Question 2 of Assignment 1"
   ]
  },
  {
   "cell_type": "code",
   "execution_count": 28,
   "id": "8d11e7fe",
   "metadata": {},
   "outputs": [
    {
     "name": "stdout",
     "output_type": "stream",
     "text": [
      "True Annual Mean Return: 10.00%\n",
      "True Annual Volatility: 20.00%\n",
      "Generated Annual Mean Return: 10.57%\n",
      "Generated Annual Volatility: 19.54%\n"
     ]
    }
   ],
   "source": [
    "# Number of months in a year\n",
    "months_per_year = 12\n",
    "\n",
    "# Generate random monthly returns\n",
    "monthly_returns = np.random.normal(mean_return / months_per_year, volatility / np.sqrt(months_per_year), years * months_per_year)\n",
    "\n",
    "# Calculate the mean and volatility of the generated returns\n",
    "mean_generated_annual = np.mean(monthly_returns) * months_per_year\n",
    "volatility_generated_annual = np.std(monthly_returns) * np.sqrt(months_per_year)\n",
    "\n",
    "print(f\"True Annual Mean Return: {mean_return:.2%}\")\n",
    "print(f\"True Annual Volatility: {volatility:.2%}\")\n",
    "print(f\"Generated Annual Mean Return: {mean_generated_annual:.2%}\")\n",
    "print(f\"Generated Annual Volatility: {volatility_generated_annual:.2%}\")\n"
   ]
  },
  {
   "cell_type": "markdown",
   "id": "fdeb4940",
   "metadata": {},
   "source": [
    "### Question 3 of Assignment 1"
   ]
  },
  {
   "cell_type": "code",
   "execution_count": 40,
   "id": "f45b901c",
   "metadata": {},
   "outputs": [
    {
     "name": "stdout",
     "output_type": "stream",
     "text": [
      "True Annual Mean Return: 10.00%\n",
      "True Annual Volatility: 20.00%\n",
      "Generated Annual Mean Return: 10.07%\n",
      "Generated Annual Volatility: 19.96%\n"
     ]
    }
   ],
   "source": [
    "# Number of trading days in a year (assuming 252 trading days)\n",
    "trading_days_per_year = 252\n",
    "\n",
    "# Generate random daily returns\n",
    "daily_returns = np.random.normal(mean_return / trading_days_per_year, volatility / np.sqrt(trading_days_per_year), years * trading_days_per_year)\n",
    "\n",
    "# Calculate the mean and volatility of the generated returns\n",
    "mean_generated_annual = np.mean(daily_returns)*trading_days_per_year\n",
    "volatility_generated_annual = np.std(daily_returns)*np.sqrt(trading_days_per_year)\n",
    "\n",
    "print(f\"True Annual Mean Return: {mean_return:.2%}\")\n",
    "print(f\"True Annual Volatility: {volatility:.2%}\")\n",
    "print(f\"Generated Annual Mean Return: {mean_generated_annual:.2%}\")\n",
    "print(f\"Generated Annual Volatility: {volatility_generated_annual:.2%}\")\n"
   ]
  },
  {
   "cell_type": "markdown",
   "id": "c7d14e40",
   "metadata": {},
   "source": [
    "### Question 4 of Assignment 1"
   ]
  },
  {
   "cell_type": "markdown",
   "id": "5f2f7e7c",
   "metadata": {},
   "source": [
    "#### The annual mean and volatility of returns from my random data are all close to true mean and volatility, when I generate random annual returns, monthly returns, and daily returns."
   ]
  },
  {
   "cell_type": "code",
   "execution_count": null,
   "id": "653d424a",
   "metadata": {},
   "outputs": [],
   "source": []
  }
 ],
 "metadata": {
  "kernelspec": {
   "display_name": "Python 3 (ipykernel)",
   "language": "python",
   "name": "python3"
  },
  "language_info": {
   "codemirror_mode": {
    "name": "ipython",
    "version": 3
   },
   "file_extension": ".py",
   "mimetype": "text/x-python",
   "name": "python",
   "nbconvert_exporter": "python",
   "pygments_lexer": "ipython3",
   "version": "3.9.13"
  }
 },
 "nbformat": 4,
 "nbformat_minor": 5
}
