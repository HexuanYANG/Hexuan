{
 "cells": [
  {
   "cell_type": "markdown",
   "id": "e5723e63",
   "metadata": {},
   "source": [
    "# <span style=\"color:red\">QPM: Assignment 6</span>\n",
    "\n",
    "###  LAFTIT Mehdi, LIN Christine, MUSEUX Célia and YANG Hexuan \n",
    "\n",
    "Financial Engineering - Quantitative Portfolio Management\n",
    "\n",
    "**Due date :** 20/11/2023 9am\n"
   ]
  },
  {
   "cell_type": "markdown",
   "id": "d542da50",
   "metadata": {},
   "source": [
    "## <span style=\"color:green\">Preliminary step</span>"
   ]
  },
  {
   "cell_type": "markdown",
   "id": "08db843a",
   "metadata": {},
   "source": [
    "We import the libraries we are going to use in this assignment:"
   ]
  },
  {
   "cell_type": "code",
   "execution_count": 207,
   "id": "f67dc80c",
   "metadata": {},
   "outputs": [],
   "source": [
    "import pandas as pd\n",
    "import yfinance as yf\n",
    "import numpy as np\n",
    "import matplotlib.pyplot as plt\n",
    "import matplotlib.dates as mdates\n",
    "from tabulate import tabulate"
   ]
  },
  {
   "cell_type": "markdown",
   "id": "e3a4d3f2",
   "metadata": {},
   "source": [
    "### STEP 1: we  build a dataframe with the prices for the 6 stocks"
   ]
  },
  {
   "cell_type": "markdown",
   "id": "dc1e89f9",
   "metadata": {},
   "source": [
    "we can download the prices from Yahoo Finance"
   ]
  },
  {
   "cell_type": "code",
   "execution_count": 208,
   "id": "afec92cc",
   "metadata": {},
   "outputs": [],
   "source": [
    "symbols = [\"AAPL\", \"MSFT\", \"AMZN\", \"NVDA\", \"TSLA\", \"META\"]"
   ]
  },
  {
   "cell_type": "markdown",
   "id": "382a9dac",
   "metadata": {},
   "source": [
    "So our universe is: AAPL, MSFT, AMZN, NVDA, TSLA and META"
   ]
  },
  {
   "cell_type": "code",
   "execution_count": 209,
   "id": "183ec0d9",
   "metadata": {},
   "outputs": [],
   "source": [
    "stock_prices = (yf.download(tickers=symbols, \n",
    "                            start=\"2015-01-01\",\n",
    "                            end=\"2022-12-31\",\n",
    "                            progress=False)\n",
    "  .melt(ignore_index=False, \n",
    "        var_name=[\"variable\", \"symbol\"])\n",
    "  .reset_index()\n",
    "  .pivot(index=[\"Date\", \"symbol\"], \n",
    "         columns=\"variable\", \n",
    "         values=\"value\")\n",
    "  .reset_index()\n",
    "  .rename(columns = {\"Date\": \"date\", \n",
    "                     \"Open\": \"open\", \n",
    "                     \"High\": \"high\", \n",
    "                     \"Low\": \"low\",\n",
    "                     \"Close\": \"close\", \n",
    "                     \"Adj Close\": \"adjusted\", \n",
    "                     \"Volume\": \"volume\"\n",
    "                    })\n",
    ")"
   ]
  },
  {
   "cell_type": "code",
   "execution_count": 210,
   "id": "48b4caea",
   "metadata": {},
   "outputs": [
    {
     "data": {
      "text/html": [
       "<div>\n",
       "<style scoped>\n",
       "    .dataframe tbody tr th:only-of-type {\n",
       "        vertical-align: middle;\n",
       "    }\n",
       "\n",
       "    .dataframe tbody tr th {\n",
       "        vertical-align: top;\n",
       "    }\n",
       "\n",
       "    .dataframe thead th {\n",
       "        text-align: right;\n",
       "    }\n",
       "</style>\n",
       "<table border=\"1\" class=\"dataframe\">\n",
       "  <thead>\n",
       "    <tr style=\"text-align: right;\">\n",
       "      <th>variable</th>\n",
       "      <th>date</th>\n",
       "      <th>symbol</th>\n",
       "      <th>adjusted</th>\n",
       "      <th>close</th>\n",
       "      <th>high</th>\n",
       "      <th>low</th>\n",
       "      <th>open</th>\n",
       "      <th>volume</th>\n",
       "    </tr>\n",
       "  </thead>\n",
       "  <tbody>\n",
       "    <tr>\n",
       "      <th>0</th>\n",
       "      <td>2015-01-02</td>\n",
       "      <td>AAPL</td>\n",
       "      <td>24.466450</td>\n",
       "      <td>27.332500</td>\n",
       "      <td>27.860001</td>\n",
       "      <td>26.837500</td>\n",
       "      <td>27.847500</td>\n",
       "      <td>212818400.0</td>\n",
       "    </tr>\n",
       "    <tr>\n",
       "      <th>1</th>\n",
       "      <td>2015-01-02</td>\n",
       "      <td>AMZN</td>\n",
       "      <td>15.426000</td>\n",
       "      <td>15.426000</td>\n",
       "      <td>15.737500</td>\n",
       "      <td>15.348000</td>\n",
       "      <td>15.629000</td>\n",
       "      <td>55664000.0</td>\n",
       "    </tr>\n",
       "    <tr>\n",
       "      <th>2</th>\n",
       "      <td>2015-01-02</td>\n",
       "      <td>META</td>\n",
       "      <td>78.449997</td>\n",
       "      <td>78.449997</td>\n",
       "      <td>78.930000</td>\n",
       "      <td>77.699997</td>\n",
       "      <td>78.580002</td>\n",
       "      <td>18177500.0</td>\n",
       "    </tr>\n",
       "    <tr>\n",
       "      <th>3</th>\n",
       "      <td>2015-01-02</td>\n",
       "      <td>MSFT</td>\n",
       "      <td>40.452740</td>\n",
       "      <td>46.759998</td>\n",
       "      <td>47.419998</td>\n",
       "      <td>46.540001</td>\n",
       "      <td>46.660000</td>\n",
       "      <td>27913900.0</td>\n",
       "    </tr>\n",
       "    <tr>\n",
       "      <th>4</th>\n",
       "      <td>2015-01-02</td>\n",
       "      <td>NVDA</td>\n",
       "      <td>4.833230</td>\n",
       "      <td>5.032500</td>\n",
       "      <td>5.070000</td>\n",
       "      <td>4.952500</td>\n",
       "      <td>5.032500</td>\n",
       "      <td>11368000.0</td>\n",
       "    </tr>\n",
       "  </tbody>\n",
       "</table>\n",
       "</div>"
      ],
      "text/plain": [
       "variable       date symbol   adjusted      close       high        low  \\\n",
       "0        2015-01-02   AAPL  24.466450  27.332500  27.860001  26.837500   \n",
       "1        2015-01-02   AMZN  15.426000  15.426000  15.737500  15.348000   \n",
       "2        2015-01-02   META  78.449997  78.449997  78.930000  77.699997   \n",
       "3        2015-01-02   MSFT  40.452740  46.759998  47.419998  46.540001   \n",
       "4        2015-01-02   NVDA   4.833230   5.032500   5.070000   4.952500   \n",
       "\n",
       "variable       open       volume  \n",
       "0         27.847500  212818400.0  \n",
       "1         15.629000   55664000.0  \n",
       "2         78.580002   18177500.0  \n",
       "3         46.660000   27913900.0  \n",
       "4          5.032500   11368000.0  "
      ]
     },
     "execution_count": 210,
     "metadata": {},
     "output_type": "execute_result"
    }
   ],
   "source": [
    "stock_prices.head()"
   ]
  },
  {
   "cell_type": "markdown",
   "id": "19c086df",
   "metadata": {},
   "source": [
    "We drop the columns that have only “NaN” entries."
   ]
  },
  {
   "cell_type": "code",
   "execution_count": 211,
   "id": "03cb2d5d",
   "metadata": {},
   "outputs": [],
   "source": [
    "new_stock_prices = stock_prices.dropna(axis=1, how='all')"
   ]
  },
  {
   "cell_type": "code",
   "execution_count": 212,
   "id": "12f1c00b",
   "metadata": {},
   "outputs": [
    {
     "data": {
      "text/html": [
       "<div>\n",
       "<style scoped>\n",
       "    .dataframe tbody tr th:only-of-type {\n",
       "        vertical-align: middle;\n",
       "    }\n",
       "\n",
       "    .dataframe tbody tr th {\n",
       "        vertical-align: top;\n",
       "    }\n",
       "\n",
       "    .dataframe thead th {\n",
       "        text-align: right;\n",
       "    }\n",
       "</style>\n",
       "<table border=\"1\" class=\"dataframe\">\n",
       "  <thead>\n",
       "    <tr style=\"text-align: right;\">\n",
       "      <th>variable</th>\n",
       "      <th>date</th>\n",
       "      <th>symbol</th>\n",
       "      <th>adjusted</th>\n",
       "      <th>close</th>\n",
       "      <th>high</th>\n",
       "      <th>low</th>\n",
       "      <th>open</th>\n",
       "      <th>volume</th>\n",
       "    </tr>\n",
       "  </thead>\n",
       "  <tbody>\n",
       "    <tr>\n",
       "      <th>0</th>\n",
       "      <td>2015-01-02</td>\n",
       "      <td>AAPL</td>\n",
       "      <td>24.466450</td>\n",
       "      <td>27.332500</td>\n",
       "      <td>27.860001</td>\n",
       "      <td>26.837500</td>\n",
       "      <td>27.847500</td>\n",
       "      <td>212818400.0</td>\n",
       "    </tr>\n",
       "    <tr>\n",
       "      <th>1</th>\n",
       "      <td>2015-01-02</td>\n",
       "      <td>AMZN</td>\n",
       "      <td>15.426000</td>\n",
       "      <td>15.426000</td>\n",
       "      <td>15.737500</td>\n",
       "      <td>15.348000</td>\n",
       "      <td>15.629000</td>\n",
       "      <td>55664000.0</td>\n",
       "    </tr>\n",
       "    <tr>\n",
       "      <th>2</th>\n",
       "      <td>2015-01-02</td>\n",
       "      <td>META</td>\n",
       "      <td>78.449997</td>\n",
       "      <td>78.449997</td>\n",
       "      <td>78.930000</td>\n",
       "      <td>77.699997</td>\n",
       "      <td>78.580002</td>\n",
       "      <td>18177500.0</td>\n",
       "    </tr>\n",
       "    <tr>\n",
       "      <th>3</th>\n",
       "      <td>2015-01-02</td>\n",
       "      <td>MSFT</td>\n",
       "      <td>40.452740</td>\n",
       "      <td>46.759998</td>\n",
       "      <td>47.419998</td>\n",
       "      <td>46.540001</td>\n",
       "      <td>46.660000</td>\n",
       "      <td>27913900.0</td>\n",
       "    </tr>\n",
       "    <tr>\n",
       "      <th>4</th>\n",
       "      <td>2015-01-02</td>\n",
       "      <td>NVDA</td>\n",
       "      <td>4.833230</td>\n",
       "      <td>5.032500</td>\n",
       "      <td>5.070000</td>\n",
       "      <td>4.952500</td>\n",
       "      <td>5.032500</td>\n",
       "      <td>11368000.0</td>\n",
       "    </tr>\n",
       "  </tbody>\n",
       "</table>\n",
       "</div>"
      ],
      "text/plain": [
       "variable       date symbol   adjusted      close       high        low  \\\n",
       "0        2015-01-02   AAPL  24.466450  27.332500  27.860001  26.837500   \n",
       "1        2015-01-02   AMZN  15.426000  15.426000  15.737500  15.348000   \n",
       "2        2015-01-02   META  78.449997  78.449997  78.930000  77.699997   \n",
       "3        2015-01-02   MSFT  40.452740  46.759998  47.419998  46.540001   \n",
       "4        2015-01-02   NVDA   4.833230   5.032500   5.070000   4.952500   \n",
       "\n",
       "variable       open       volume  \n",
       "0         27.847500  212818400.0  \n",
       "1         15.629000   55664000.0  \n",
       "2         78.580002   18177500.0  \n",
       "3         46.660000   27913900.0  \n",
       "4          5.032500   11368000.0  "
      ]
     },
     "execution_count": 212,
     "metadata": {},
     "output_type": "execute_result"
    }
   ],
   "source": [
    "new_stock_prices.head()"
   ]
  },
  {
   "cell_type": "markdown",
   "id": "46b490bb",
   "metadata": {},
   "source": [
    "We can plot the 6 stock prices"
   ]
  },
  {
   "cell_type": "code",
   "execution_count": 213,
   "id": "8881842d",
   "metadata": {},
   "outputs": [
    {
     "data": {
      "image/png": "[encoded data removed]",
      "text/plain": [
       "<Figure size 432x288 with 1 Axes>"
      ]
     },
     "metadata": {
      "needs_background": "light"
     },
     "output_type": "display_data"
    }
   ],
   "source": [
    "symbols_to_plot = new_stock_prices['symbol'].unique()[:6]\n",
    "filtered_data = new_stock_prices[new_stock_prices['symbol'].isin(symbols_to_plot)]\n",
    "\n",
    "fig, ax = plt.subplots()\n",
    "for symbol, data in filtered_data.groupby('symbol'):\n",
    "    ax.plot(data['date'], data['adjusted'], label=symbol)\n",
    "\n",
    "ax.set_title(\"Stock prices of the 6 companies\")\n",
    "ax.set_xlabel(\"Date\")\n",
    "ax.set_ylabel(\"Adjusted Price\")\n",
    "ax.xaxis.set_major_formatter(mdates.DateFormatter(\"%Y\"))\n",
    "ax.legend().set_visible(False)\n",
    "\n",
    "plt.show()"
   ]
  },
  {
   "cell_type": "markdown",
   "id": "3f582e08",
   "metadata": {},
   "source": [
    "### STEP 2: we compute their monthly excess returns starting January 2015 and ending December 2022"
   ]
  },
  {
   "cell_type": "markdown",
   "id": "6c0cef3b",
   "metadata": {},
   "source": [
    "We now compute the monthly log-returns using the following formula:  $ln(Pt/P(t-1))$ where $ln$ is the natural logarithm function and $Pt$ is the adjusted prices at time t."
   ]
  },
  {
   "cell_type": "code",
   "execution_count": 214,
   "id": "16bba675",
   "metadata": {},
   "outputs": [],
   "source": [
    "new_stock_prices['date'] = pd.to_datetime(new_stock_prices['date'])\n",
    "new_stock_prices.set_index('date', inplace=True)\n",
    "\n",
    "log_return_matrix = (new_stock_prices\n",
    "    .pivot(columns=\"symbol\", values=\"adjusted\")\n",
    "    .resample(\"M\")\n",
    "    .last()\n",
    "    .apply(lambda x: np.log(x / x.shift(1)))\n",
    "    .dropna()\n",
    ")"
   ]
  },
  {
   "cell_type": "code",
   "execution_count": 215,
   "id": "708e19ed",
   "metadata": {},
   "outputs": [
    {
     "data": {
      "text/html": [
       "<div>\n",
       "<style scoped>\n",
       "    .dataframe tbody tr th:only-of-type {\n",
       "        vertical-align: middle;\n",
       "    }\n",
       "\n",
       "    .dataframe tbody tr th {\n",
       "        vertical-align: top;\n",
       "    }\n",
       "\n",
       "    .dataframe thead th {\n",
       "        text-align: right;\n",
       "    }\n",
       "</style>\n",
       "<table border=\"1\" class=\"dataframe\">\n",
       "  <thead>\n",
       "    <tr style=\"text-align: right;\">\n",
       "      <th>symbol</th>\n",
       "      <th>AAPL</th>\n",
       "      <th>AMZN</th>\n",
       "      <th>META</th>\n",
       "      <th>MSFT</th>\n",
       "      <th>NVDA</th>\n",
       "      <th>TSLA</th>\n",
       "    </tr>\n",
       "    <tr>\n",
       "      <th>date</th>\n",
       "      <th></th>\n",
       "      <th></th>\n",
       "      <th></th>\n",
       "      <th></th>\n",
       "      <th></th>\n",
       "      <th></th>\n",
       "    </tr>\n",
       "  </thead>\n",
       "  <tbody>\n",
       "    <tr>\n",
       "      <th>2015-02-28</th>\n",
       "      <td>0.096016</td>\n",
       "      <td>0.069799</td>\n",
       "      <td>0.039520</td>\n",
       "      <td>0.089037</td>\n",
       "      <td>0.142699</td>\n",
       "      <td>-0.001278</td>\n",
       "    </tr>\n",
       "    <tr>\n",
       "      <th>2015-03-31</th>\n",
       "      <td>-0.031874</td>\n",
       "      <td>-0.021430</td>\n",
       "      <td>0.040331</td>\n",
       "      <td>-0.075530</td>\n",
       "      <td>-0.052583</td>\n",
       "      <td>-0.074350</td>\n",
       "    </tr>\n",
       "    <tr>\n",
       "      <th>2015-04-30</th>\n",
       "      <td>0.005770</td>\n",
       "      <td>0.125321</td>\n",
       "      <td>-0.042866</td>\n",
       "      <td>0.179201</td>\n",
       "      <td>0.058909</td>\n",
       "      <td>0.180227</td>\n",
       "    </tr>\n",
       "    <tr>\n",
       "      <th>2015-05-31</th>\n",
       "      <td>0.044341</td>\n",
       "      <td>0.017509</td>\n",
       "      <td>0.005318</td>\n",
       "      <td>-0.030804</td>\n",
       "      <td>0.001460</td>\n",
       "      <td>0.103900</td>\n",
       "    </tr>\n",
       "    <tr>\n",
       "      <th>2015-06-30</th>\n",
       "      <td>-0.037938</td>\n",
       "      <td>0.011259</td>\n",
       "      <td>0.079819</td>\n",
       "      <td>-0.059572</td>\n",
       "      <td>-0.095717</td>\n",
       "      <td>0.067301</td>\n",
       "    </tr>\n",
       "  </tbody>\n",
       "</table>\n",
       "</div>"
      ],
      "text/plain": [
       "symbol          AAPL      AMZN      META      MSFT      NVDA      TSLA\n",
       "date                                                                  \n",
       "2015-02-28  0.096016  0.069799  0.039520  0.089037  0.142699 -0.001278\n",
       "2015-03-31 -0.031874 -0.021430  0.040331 -0.075530 -0.052583 -0.074350\n",
       "2015-04-30  0.005770  0.125321 -0.042866  0.179201  0.058909  0.180227\n",
       "2015-05-31  0.044341  0.017509  0.005318 -0.030804  0.001460  0.103900\n",
       "2015-06-30 -0.037938  0.011259  0.079819 -0.059572 -0.095717  0.067301"
      ]
     },
     "execution_count": 215,
     "metadata": {},
     "output_type": "execute_result"
    }
   ],
   "source": [
    "log_return_matrix.head()"
   ]
  },
  {
   "cell_type": "markdown",
   "id": "63c497f9",
   "metadata": {},
   "source": [
    "Because risk-free rate is 0, the excess returns are log returns themselves."
   ]
  },
  {
   "cell_type": "code",
   "execution_count": 216,
   "id": "45629a47",
   "metadata": {},
   "outputs": [],
   "source": [
    "excess_return = log_return_matrix"
   ]
  },
  {
   "cell_type": "markdown",
   "id": "96961cb9",
   "metadata": {},
   "source": [
    "### STEP 3: we use the “Index Weighting” to assign the market weights for these assets"
   ]
  },
  {
   "cell_type": "markdown",
   "id": "c2b867ed",
   "metadata": {},
   "source": [
    "We divide each index weighting by sum of weight to make sure the total weight of the portfolio is 1"
   ]
  },
  {
   "cell_type": "code",
   "execution_count": 217,
   "id": "6a85c25d",
   "metadata": {},
   "outputs": [
    {
     "name": "stdout",
     "output_type": "stream",
     "text": [
      "\u001b[1mMarket weights:\u001b[0m \n",
      "AAPL: 0.3034\n",
      "AMZN: 0.1385\n",
      "META: 0.0786\n",
      "MSFT: 0.2782\n",
      "NVDA: 0.1214\n",
      "TSLA: 0.0799\n"
     ]
    }
   ],
   "source": [
    "# Index weighting from investopedia\n",
    "index_weighting = {'AAPL': 0.071, 'AMZN': 0.0324, 'META': 0.0184, 'MSFT': 0.0651,'NVDA': 0.0284, 'TSLA': 0.0187}\n",
    "\n",
    "#We assign market weights to the assets and round to 4 decimals\n",
    "sum_of_weights = sum(index_weighting.values())\n",
    "weights=[]\n",
    "\n",
    "print(\"\\033[1mMarket weights:\\033[0m \")\n",
    "\n",
    "for symbol in index_weighting:\n",
    "    weight = round(index_weighting.get(symbol, 0) / sum_of_weights, 4)  \n",
    "    weights.append(weight)\n",
    "    print(f\"{symbol}: {weight}\")"
   ]
  },
  {
   "cell_type": "markdown",
   "id": "3fbd0df0",
   "metadata": {},
   "source": [
    "## <span style=\"color:green\">Question 1 of Assignment 6</span>"
   ]
  },
  {
   "cell_type": "markdown",
   "id": "ff10bd54",
   "metadata": {},
   "source": [
    "Based on the sample data, we are going to compute the Markowitz portfolio weights."
   ]
  },
  {
   "cell_type": "code",
   "execution_count": 218,
   "id": "ab93eb02",
   "metadata": {},
   "outputs": [],
   "source": [
    "mu_sample = excess_return.mean() \n",
    "cov = excess_return.cov()\n",
    "inv_cov = np.linalg.inv(cov)"
   ]
  },
  {
   "cell_type": "markdown",
   "id": "247c0b2a",
   "metadata": {},
   "source": [
    "We compute the risk aversion gamma: "
   ]
  },
  {
   "cell_type": "code",
   "execution_count": 219,
   "id": "c83f597d",
   "metadata": {},
   "outputs": [
    {
     "name": "stdout",
     "output_type": "stream",
     "text": [
      "The global mean return is 0.0196 and the variance is 0.00515565\n",
      "\u001b[1m\n",
      "The risk aversion parameter is\u001b[0m  3.8072139537612415\n"
     ]
    }
   ],
   "source": [
    "global_return = (mu_sample * weights).sum()\n",
    "weights_array = np.array(weights)\n",
    "var = np.matmul(weights_array.T, np.matmul(cov.values, weights_array))\n",
    "print(f'The global mean return is {global_return:.4f} and the variance is {var:.6}')\n",
    "\n",
    "gamma = global_return / var\n",
    "print(\"\\033[1m\\nThe risk aversion parameter is\\033[0m \",gamma)"
   ]
  },
  {
   "cell_type": "markdown",
   "id": "1fb47717",
   "metadata": {},
   "source": [
    "We compute the markowitz weights. We have decided to make the sum of the weights equal to 1. The formula is: $w = (1/gamma) * inv(V[R]) * (E[R] - Rf1n)$. But here Rf = 0"
   ]
  },
  {
   "cell_type": "code",
   "execution_count": 220,
   "id": "b5103a6a",
   "metadata": {},
   "outputs": [
    {
     "name": "stdout",
     "output_type": "stream",
     "text": [
      "\u001b[1mMarkowitz_weights:\u001b[0m \n",
      "Stock 1: -0.095060\n",
      "Stock 2: -0.216609\n",
      "Stock 3: -0.272536\n",
      "Stock 4: 1.280829\n",
      "Stock 5: 0.267140\n",
      "Stock 6: 0.036237\n"
     ]
    }
   ],
   "source": [
    "markowitz_weights = (1/gamma) * np.dot(inv_cov, mu_sample)\n",
    "sum_of_weights = np.sum(markowitz_weights)\n",
    "markowitz_weights = markowitz_weights / sum_of_weights\n",
    "\n",
    "print(\"\\033[1mMarkowitz_weights:\\033[0m \")\n",
    "for i, weight in enumerate(markowitz_weights):\n",
    "    print(f\"Stock {i + 1}: {weight:.6f}\")"
   ]
  },
  {
   "cell_type": "markdown",
   "id": "20aae050",
   "metadata": {},
   "source": [
    "When it is negative, it means we have to sell the stock."
   ]
  },
  {
   "cell_type": "markdown",
   "id": "5140884a",
   "metadata": {},
   "source": [
    "## <span style=\"color:green\">Question 2 of Assignment 6</span>"
   ]
  },
  {
   "cell_type": "markdown",
   "id": "86775673",
   "metadata": {},
   "source": [
    "Using the market-capitalization weights, we have to obtain the CAPM-implied expected returns. The formula is:\n",
    "$E[Rcapm] -Rf1n = w * Gamma * V[R]$."
   ]
  },
  {
   "cell_type": "code",
   "execution_count": 221,
   "id": "9a83522b",
   "metadata": {},
   "outputs": [
    {
     "name": "stdout",
     "output_type": "stream",
     "text": [
      "\u001b[1mCAPM-implied expected returns:\u001b[0m \n"
     ]
    },
    {
     "data": {
      "text/plain": [
       "symbol\n",
       "AAPL    0.019794\n",
       "AMZN    0.019368\n",
       "META    0.015023\n",
       "MSFT    0.014297\n",
       "NVDA    0.028142\n",
       "TSLA    0.029615\n",
       "dtype: float64"
      ]
     },
     "execution_count": 221,
     "metadata": {},
     "output_type": "execute_result"
    }
   ],
   "source": [
    "def implied_rets(risk_aversion, sigma, w):\n",
    "    implied_rets = risk_aversion * sigma @ w\n",
    "    return implied_rets\n",
    "\n",
    "mu_capm = implied_rets(gamma, cov, weights)\n",
    "print(\"\\033[1mCAPM-implied expected returns:\\033[0m \")\n",
    "mu_capm"
   ]
  },
  {
   "cell_type": "markdown",
   "id": "0cfd25a4",
   "metadata": {},
   "source": [
    "## <span style=\"color:green\">Question 3 of Assignment 6</span>"
   ]
  },
  {
   "cell_type": "markdown",
   "id": "1827f9cc",
   "metadata": {},
   "source": [
    "We are going to specify the pick matrix P and the view vector q that captures the following views for each of the assets\n",
    "\n",
    "- AAPL: its absolute excess return is expected to be 10% per year.\n",
    "- MSFT: its absolute excess return is expected to be 5% per year.\n",
    "- NVDA will outperform TSLA by 2% per year.\n",
    "- TSLA will underperform META by 1% per year.\n",
    "\n",
    "So we have 4 views for 6 assets.\n",
    "\n",
    "Finally, we will explain our choice for the matrix Ω, which captures the uncertainty about these views."
   ]
  },
  {
   "cell_type": "code",
   "execution_count": 222,
   "id": "c4c02d2e",
   "metadata": {},
   "outputs": [],
   "source": [
    "q = np.array([0.1, 0.05, 0.02, 0.01])"
   ]
  },
  {
   "cell_type": "code",
   "execution_count": 223,
   "id": "5b0f7356",
   "metadata": {},
   "outputs": [],
   "source": [
    "P = np.asarray([[1, 0, 0, 0, 0, 0],\n",
    "                [0, 0, 0, 1, 0, 0],\n",
    "                [0, 0, 0, 0, 1, -1],\n",
    "                [0, 0, 1, 0, 0, -1]])"
   ]
  },
  {
   "cell_type": "markdown",
   "id": "1385ffd5",
   "metadata": {},
   "source": [
    "**Explanation**: \n",
    "\n",
    "Each view has a corresponding row in the picking matrix (the order matters). Because there are 4 views, there are 4 rows. Absolute views have a single 1 in the column corresponding to the ticker’s order in the universe. Relative views have a positive number in the nominally outperforming asset columns and a negative number in the nominally underperforming asset columns."
   ]
  },
  {
   "cell_type": "markdown",
   "id": "402fd320",
   "metadata": {},
   "source": [
    "We compute the matrix omega: we use $ τ * P * Σ * P^T$ to determine the omega matrix "
   ]
  },
  {
   "cell_type": "code",
   "execution_count": 224,
   "id": "d0442231",
   "metadata": {},
   "outputs": [],
   "source": [
    "#We use 2015-2022 year to estimate the return moments. Therefore, we have 8 years * 12 months = 96 data points\n",
    "tau = 1/96"
   ]
  },
  {
   "cell_type": "code",
   "execution_count": 225,
   "id": "76544aca",
   "metadata": {
    "scrolled": false
   },
   "outputs": [
    {
     "name": "stdout",
     "output_type": "stream",
     "text": [
      "\u001b[1mOmega:\u001b[0m \n"
     ]
    },
    {
     "data": {
      "text/plain": [
       "array([[7.20e-05, 0.00e+00, 0.00e+00, 0.00e+00],\n",
       "       [0.00e+00, 4.00e-05, 0.00e+00, 0.00e+00],\n",
       "       [0.00e+00, 0.00e+00, 3.20e-04, 0.00e+00],\n",
       "       [0.00e+00, 0.00e+00, 0.00e+00, 2.98e-04]])"
      ]
     },
     "execution_count": 225,
     "metadata": {},
     "output_type": "execute_result"
    }
   ],
   "source": [
    "def omega_matrix(sigma, tau, P):\n",
    "    matrix = np.diag(np.diag(tau*P@sigma@P.T))\n",
    "    return matrix\n",
    "\n",
    "\n",
    "omega = omega_matrix(cov, tau, P).round(6)\n",
    "\n",
    "print(\"\\033[1mOmega:\\033[0m \")\n",
    "omega"
   ]
  },
  {
   "cell_type": "markdown",
   "id": "f03b9de0",
   "metadata": {},
   "source": [
    "**Explanation of Omega matrix** =  it represents the estimates of variance of the error in the views, that is to say the uncertainty or confidence in the views . So here we have 4 views, so we have four diagonal elements which represent the variance of the error of each view.\n",
    "\n",
    "The larger the diagonal elements, the higher the confidence in the corresponding views. Also, we know that the choice of $τ$ and the construction of Omega matrix involve a subjective judgment, and different choices can lead to different portfolio outcomes."
   ]
  },
  {
   "cell_type": "markdown",
   "id": "f7bfa881",
   "metadata": {},
   "source": [
    "## <span style=\"color:green\">Question 4 of Assignment 6</span>"
   ]
  },
  {
   "cell_type": "markdown",
   "id": "58031b17",
   "metadata": {},
   "source": [
    "We use these views to compute the conditional expected excess return and conditional covariance matrix of excess returns $µ$BL and $Σ$BL."
   ]
  },
  {
   "cell_type": "markdown",
   "id": "4c26a54a",
   "metadata": {},
   "source": [
    "### Step 1 : we compute 𝐶[µ,𝑞]"
   ]
  },
  {
   "cell_type": "markdown",
   "id": "3ca8b6ab",
   "metadata": {},
   "source": [
    "We calculate $C[µ, q]$:\n",
    "c = $C[µ, q] = (τ*Σ)*P^T$"
   ]
  },
  {
   "cell_type": "code",
   "execution_count": 227,
   "id": "fc89a348",
   "metadata": {},
   "outputs": [],
   "source": [
    "c = tau * cov @ (P.T)"
   ]
  },
  {
   "cell_type": "markdown",
   "id": "162ed2da",
   "metadata": {},
   "source": [
    "### Step 2: we compute E[µ|𝑞] and V[µ|𝑞]"
   ]
  },
  {
   "cell_type": "markdown",
   "id": "ee766e68",
   "metadata": {},
   "source": [
    "we get the conditional expectation of µ:  mu_BL = $E[µ|q]= µcapm + c*inv(P*c+omega)*(q -P*µcapm)$"
   ]
  },
  {
   "cell_type": "code",
   "execution_count": 228,
   "id": "8ae29428",
   "metadata": {},
   "outputs": [],
   "source": [
    "# Calculate the BL Return Vector\n",
    "mu_BL = mu_capm + c @ np.linalg.inv((P@c)+ omega) @ (q - (P@mu_capm))"
   ]
  },
  {
   "cell_type": "code",
   "execution_count": 229,
   "id": "7e0b081f",
   "metadata": {},
   "outputs": [
    {
     "name": "stdout",
     "output_type": "stream",
     "text": [
      "\u001b[1mMu_BL:\u001b[0m \n"
     ]
    },
    {
     "data": {
      "text/plain": [
       "symbol\n",
       "AAPL    0.062301\n",
       "AMZN    0.048895\n",
       "META    0.043817\n",
       "MSFT    0.040357\n",
       "NVDA    0.075002\n",
       "TSLA    0.058232\n",
       "dtype: float64"
      ]
     },
     "execution_count": 229,
     "metadata": {},
     "output_type": "execute_result"
    }
   ],
   "source": [
    "print(\"\\033[1mMu_BL:\\033[0m \")\n",
    "mu_BL"
   ]
  },
  {
   "cell_type": "markdown",
   "id": "9d67a668",
   "metadata": {},
   "source": [
    "the conditional variance of µ: cov_BL = $V[µ|q]= (τ*Σ) - c* inv(P*c + omega) * P*(τ*Σ)$"
   ]
  },
  {
   "cell_type": "code",
   "execution_count": 230,
   "id": "875a63c4",
   "metadata": {},
   "outputs": [],
   "source": [
    "cov_BL1 = (tau * cov) - c @ np.linalg.inv((P@c) + omega) @ (P @ (tau* cov))"
   ]
  },
  {
   "cell_type": "code",
   "execution_count": 231,
   "id": "b62956ec",
   "metadata": {
    "scrolled": true
   },
   "outputs": [
    {
     "name": "stdout",
     "output_type": "stream",
     "text": [
      "\u001b[1mcov_BL:\u001b[0m \n"
     ]
    },
    {
     "data": {
      "text/html": [
       "<div>\n",
       "<style scoped>\n",
       "    .dataframe tbody tr th:only-of-type {\n",
       "        vertical-align: middle;\n",
       "    }\n",
       "\n",
       "    .dataframe tbody tr th {\n",
       "        vertical-align: top;\n",
       "    }\n",
       "\n",
       "    .dataframe thead th {\n",
       "        text-align: right;\n",
       "    }\n",
       "</style>\n",
       "<table border=\"1\" class=\"dataframe\">\n",
       "  <thead>\n",
       "    <tr style=\"text-align: right;\">\n",
       "      <th>symbol</th>\n",
       "      <th>AAPL</th>\n",
       "      <th>AMZN</th>\n",
       "      <th>META</th>\n",
       "      <th>MSFT</th>\n",
       "      <th>NVDA</th>\n",
       "      <th>TSLA</th>\n",
       "    </tr>\n",
       "    <tr>\n",
       "      <th>symbol</th>\n",
       "      <th></th>\n",
       "      <th></th>\n",
       "      <th></th>\n",
       "      <th></th>\n",
       "      <th></th>\n",
       "      <th></th>\n",
       "    </tr>\n",
       "  </thead>\n",
       "  <tbody>\n",
       "    <tr>\n",
       "      <th>AAPL</th>\n",
       "      <td>0.000031</td>\n",
       "      <td>0.000014</td>\n",
       "      <td>0.000014</td>\n",
       "      <td>0.000009</td>\n",
       "      <td>0.000025</td>\n",
       "      <td>0.000024</td>\n",
       "    </tr>\n",
       "    <tr>\n",
       "      <th>AMZN</th>\n",
       "      <td>0.000014</td>\n",
       "      <td>0.000059</td>\n",
       "      <td>0.000026</td>\n",
       "      <td>0.000016</td>\n",
       "      <td>0.000035</td>\n",
       "      <td>0.000032</td>\n",
       "    </tr>\n",
       "    <tr>\n",
       "      <th>META</th>\n",
       "      <td>0.000014</td>\n",
       "      <td>0.000026</td>\n",
       "      <td>0.000078</td>\n",
       "      <td>0.000012</td>\n",
       "      <td>0.000025</td>\n",
       "      <td>0.000039</td>\n",
       "    </tr>\n",
       "    <tr>\n",
       "      <th>MSFT</th>\n",
       "      <td>0.000009</td>\n",
       "      <td>0.000016</td>\n",
       "      <td>0.000012</td>\n",
       "      <td>0.000018</td>\n",
       "      <td>0.000019</td>\n",
       "      <td>0.000016</td>\n",
       "    </tr>\n",
       "    <tr>\n",
       "      <th>NVDA</th>\n",
       "      <td>0.000025</td>\n",
       "      <td>0.000035</td>\n",
       "      <td>0.000025</td>\n",
       "      <td>0.000019</td>\n",
       "      <td>0.000112</td>\n",
       "      <td>0.000050</td>\n",
       "    </tr>\n",
       "    <tr>\n",
       "      <th>TSLA</th>\n",
       "      <td>0.000024</td>\n",
       "      <td>0.000032</td>\n",
       "      <td>0.000039</td>\n",
       "      <td>0.000016</td>\n",
       "      <td>0.000050</td>\n",
       "      <td>0.000125</td>\n",
       "    </tr>\n",
       "  </tbody>\n",
       "</table>\n",
       "</div>"
      ],
      "text/plain": [
       "symbol      AAPL      AMZN      META      MSFT      NVDA      TSLA\n",
       "symbol                                                            \n",
       "AAPL    0.000031  0.000014  0.000014  0.000009  0.000025  0.000024\n",
       "AMZN    0.000014  0.000059  0.000026  0.000016  0.000035  0.000032\n",
       "META    0.000014  0.000026  0.000078  0.000012  0.000025  0.000039\n",
       "MSFT    0.000009  0.000016  0.000012  0.000018  0.000019  0.000016\n",
       "NVDA    0.000025  0.000035  0.000025  0.000019  0.000112  0.000050\n",
       "TSLA    0.000024  0.000032  0.000039  0.000016  0.000050  0.000125"
      ]
     },
     "execution_count": 231,
     "metadata": {},
     "output_type": "execute_result"
    }
   ],
   "source": [
    "print(\"\\033[1mcov_BL:\\033[0m \")\n",
    "cov_BL1"
   ]
  },
  {
   "cell_type": "markdown",
   "id": "a0161a34",
   "metadata": {},
   "source": [
    "### Step 3: we compute E[𝑅|𝑞] and V[𝑅|𝑞]"
   ]
  },
  {
   "cell_type": "markdown",
   "id": "212891e6",
   "metadata": {},
   "source": [
    "We now need to find $E[R|q]$ and $V[R|q]$\n",
    "\n",
    "We have:\n",
    "- $E[R|q] = E[µ|q]$\n",
    "- $V[R|q] = V[µ|q] + Ver$"
   ]
  },
  {
   "cell_type": "code",
   "execution_count": 232,
   "id": "d1e8d7a8",
   "metadata": {},
   "outputs": [
    {
     "data": {
      "text/html": [
       "<div>\n",
       "<style scoped>\n",
       "    .dataframe tbody tr th:only-of-type {\n",
       "        vertical-align: middle;\n",
       "    }\n",
       "\n",
       "    .dataframe tbody tr th {\n",
       "        vertical-align: top;\n",
       "    }\n",
       "\n",
       "    .dataframe thead th {\n",
       "        text-align: right;\n",
       "    }\n",
       "</style>\n",
       "<table border=\"1\" class=\"dataframe\">\n",
       "  <thead>\n",
       "    <tr style=\"text-align: right;\">\n",
       "      <th>symbol</th>\n",
       "      <th>AAPL</th>\n",
       "      <th>AMZN</th>\n",
       "      <th>META</th>\n",
       "      <th>MSFT</th>\n",
       "      <th>NVDA</th>\n",
       "      <th>TSLA</th>\n",
       "    </tr>\n",
       "    <tr>\n",
       "      <th>symbol</th>\n",
       "      <th></th>\n",
       "      <th></th>\n",
       "      <th></th>\n",
       "      <th></th>\n",
       "      <th></th>\n",
       "      <th></th>\n",
       "    </tr>\n",
       "  </thead>\n",
       "  <tbody>\n",
       "    <tr>\n",
       "      <th>AAPL</th>\n",
       "      <td>0.006986</td>\n",
       "      <td>0.004080</td>\n",
       "      <td>0.003188</td>\n",
       "      <td>0.003259</td>\n",
       "      <td>0.006535</td>\n",
       "      <td>0.007306</td>\n",
       "    </tr>\n",
       "    <tr>\n",
       "      <th>AMZN</th>\n",
       "      <td>0.004080</td>\n",
       "      <td>0.008149</td>\n",
       "      <td>0.004107</td>\n",
       "      <td>0.003813</td>\n",
       "      <td>0.006826</td>\n",
       "      <td>0.006688</td>\n",
       "    </tr>\n",
       "    <tr>\n",
       "      <th>META</th>\n",
       "      <td>0.003188</td>\n",
       "      <td>0.004107</td>\n",
       "      <td>0.009719</td>\n",
       "      <td>0.002788</td>\n",
       "      <td>0.004466</td>\n",
       "      <td>0.004402</td>\n",
       "    </tr>\n",
       "    <tr>\n",
       "      <th>MSFT</th>\n",
       "      <td>0.003259</td>\n",
       "      <td>0.003813</td>\n",
       "      <td>0.002788</td>\n",
       "      <td>0.003842</td>\n",
       "      <td>0.005075</td>\n",
       "      <td>0.004366</td>\n",
       "    </tr>\n",
       "    <tr>\n",
       "      <th>NVDA</th>\n",
       "      <td>0.006535</td>\n",
       "      <td>0.006826</td>\n",
       "      <td>0.004466</td>\n",
       "      <td>0.005075</td>\n",
       "      <td>0.017728</td>\n",
       "      <td>0.007334</td>\n",
       "    </tr>\n",
       "    <tr>\n",
       "      <th>TSLA</th>\n",
       "      <td>0.007306</td>\n",
       "      <td>0.006688</td>\n",
       "      <td>0.004402</td>\n",
       "      <td>0.004366</td>\n",
       "      <td>0.007334</td>\n",
       "      <td>0.027785</td>\n",
       "    </tr>\n",
       "  </tbody>\n",
       "</table>\n",
       "</div>"
      ],
      "text/plain": [
       "symbol      AAPL      AMZN      META      MSFT      NVDA      TSLA\n",
       "symbol                                                            \n",
       "AAPL    0.006986  0.004080  0.003188  0.003259  0.006535  0.007306\n",
       "AMZN    0.004080  0.008149  0.004107  0.003813  0.006826  0.006688\n",
       "META    0.003188  0.004107  0.009719  0.002788  0.004466  0.004402\n",
       "MSFT    0.003259  0.003813  0.002788  0.003842  0.005075  0.004366\n",
       "NVDA    0.006535  0.006826  0.004466  0.005075  0.017728  0.007334\n",
       "TSLA    0.007306  0.006688  0.004402  0.004366  0.007334  0.027785"
      ]
     },
     "execution_count": 232,
     "metadata": {},
     "output_type": "execute_result"
    }
   ],
   "source": [
    "cov_BL= cov_BL1 + cov\n",
    "cov_BL"
   ]
  },
  {
   "cell_type": "markdown",
   "id": "8433539d",
   "metadata": {},
   "source": [
    "## <span style=\"color:green\">Question 5 of Assignment 6</span>"
   ]
  },
  {
   "cell_type": "markdown",
   "id": "6f932889",
   "metadata": {},
   "source": [
    "we now have to use $µ$BL and $Σ$BL to compute the mean-variance weights and compare them with the weights from the CAPM and the weights based on sample moments.\n",
    "\n",
    "\n",
    "The the Black-Litterman portfolio weights are given by: $w = (1/gamma) * inv(𝑉[𝑅|𝑞]) * 𝐸[𝑅|𝑞]$. Here again we made the decision to make the sum of weights equal to 1"
   ]
  },
  {
   "cell_type": "code",
   "execution_count": 233,
   "id": "0db0f0a5",
   "metadata": {},
   "outputs": [],
   "source": [
    "BL_weight = (1/gamma)*np.linalg.inv(cov_BL)@mu_BL\n",
    "BL_weight = BL_weight/np.sum(BL_weight)"
   ]
  },
  {
   "cell_type": "code",
   "execution_count": 234,
   "id": "0ca9439a",
   "metadata": {},
   "outputs": [
    {
     "name": "stdout",
     "output_type": "stream",
     "text": [
      "\u001b[1mBL_weight:\u001b[0m \n"
     ]
    },
    {
     "data": {
      "text/plain": [
       "array([ 0.5609859 ,  0.04450213,  0.09729162,  0.3045759 ,  0.0481184 ,\n",
       "       -0.05547395])"
      ]
     },
     "execution_count": 234,
     "metadata": {},
     "output_type": "execute_result"
    }
   ],
   "source": [
    "print(\"\\033[1mBL_weight:\\033[0m \")\n",
    "BL_weight"
   ]
  },
  {
   "cell_type": "code",
   "execution_count": 235,
   "id": "0284121b",
   "metadata": {
    "scrolled": false
   },
   "outputs": [
    {
     "name": "stdout",
     "output_type": "stream",
     "text": [
      "\u001b[1mComparison of returns\u001b[0m \n",
      "╒══════════╤═════════════╤════════╤═══════╤════════════════════════╤═════════════════════════════╕\n",
      "│  symbol  │  Markowitz  │  CAPM  │  BL   │  Difference BL - CAPM  │ Difference BL - Markowitz   │\n",
      "╞══════════╪═════════════╪════════╪═══════╪════════════════════════╪═════════════════════════════╡\n",
      "│   AAPL   │    1.68%    │ 1.98%  │ 6.23% │         4.25%          │ 4.55%                       │\n",
      "├──────────┼─────────────┼────────┼───────┼────────────────────────┼─────────────────────────────┤\n",
      "│   AMZN   │    1.64%    │ 1.94%  │ 4.89% │         2.95%          │ 3.25%                       │\n",
      "├──────────┼─────────────┼────────┼───────┼────────────────────────┼─────────────────────────────┤\n",
      "│   META   │    0.49%    │ 1.50%  │ 4.38% │         2.88%          │ 3.90%                       │\n",
      "├──────────┼─────────────┼────────┼───────┼────────────────────────┼─────────────────────────────┤\n",
      "│   MSFT   │    2.02%    │ 1.43%  │ 4.04% │         2.61%          │ 2.02%                       │\n",
      "├──────────┼─────────────┼────────┼───────┼────────────────────────┼─────────────────────────────┤\n",
      "│   NVDA   │    3.64%    │ 2.81%  │ 7.50% │         4.69%          │ 3.86%                       │\n",
      "├──────────┼─────────────┼────────┼───────┼────────────────────────┼─────────────────────────────┤\n",
      "│   TSLA   │    2.32%    │ 2.96%  │ 5.82% │         2.86%          │ 3.50%                       │\n",
      "╘══════════╧═════════════╧════════╧═══════╧════════════════════════╧═════════════════════════════╛\n"
     ]
    }
   ],
   "source": [
    "returns_table = pd.concat([mu_sample, mu_capm, mu_BL], axis=1) * 100\n",
    "returns_table.columns = ['Markowitz', 'CAPM', 'BL']\n",
    "returns_table['Difference BL - CAPM'] = returns_table['BL'] - returns_table['CAPM']\n",
    "returns_table['Difference BL - Markowitz'] = returns_table['BL'] - returns_table['Markowitz']\n",
    "\n",
    "\n",
    "returns_table_formatted = returns_table.round(2).applymap('{:,.2f}%'.format)\n",
    "table_format = 'fancy_grid'\n",
    "column_alignment = ['center'] * len(returns_table.columns)\n",
    "print(\"\\033[1mComparison of returns\\033[0m \")\n",
    "print(tabulate(returns_table_formatted, headers='keys', tablefmt=table_format, showindex=True, colalign=column_alignment))"
   ]
  },
  {
   "cell_type": "markdown",
   "id": "8011867c",
   "metadata": {},
   "source": [
    "We can see that the Black litterman model perform better out of sample compare to the CAPM and the markovitz portfolio."
   ]
  },
  {
   "cell_type": "markdown",
   "id": "7f11fbbe",
   "metadata": {},
   "source": [
    "We can now compare the weights: the Capital Asset Pricing Model (CAPM) says that every investor should hold the same portfolio of risky assets, this common portfolio then must be the market portfolio.\n",
    "So the CAPM weights are the market weights."
   ]
  },
  {
   "cell_type": "code",
   "execution_count": 236,
   "id": "c74048ff",
   "metadata": {},
   "outputs": [
    {
     "name": "stdout",
     "output_type": "stream",
     "text": [
      "\u001b[1mComparison of weights\u001b[0m \n",
      "╒═══════╤═════════════╤═════════════════╤═══════════════════╕\n",
      "│       │  Markowitz  │  CAPM (market)  │ Black-Litterman   │\n",
      "╞═══════╪═════════════╪═════════════════╪═══════════════════╡\n",
      "│ AAPL  │   -9.51%    │     30.34%      │ 56.10%            │\n",
      "├───────┼─────────────┼─────────────────┼───────────────────┤\n",
      "│ MSFT  │   -21.66%   │     13.85%      │ 4.45%             │\n",
      "├───────┼─────────────┼─────────────────┼───────────────────┤\n",
      "│ AMZN  │   -27.25%   │      7.86%      │ 9.73%             │\n",
      "├───────┼─────────────┼─────────────────┼───────────────────┤\n",
      "│ NVDA  │   128.08%   │     27.82%      │ 30.46%            │\n",
      "├───────┼─────────────┼─────────────────┼───────────────────┤\n",
      "│ TSLA  │   26.71%    │     12.14%      │ 4.81%             │\n",
      "├───────┼─────────────┼─────────────────┼───────────────────┤\n",
      "│ META  │    3.62%    │      7.99%      │ -5.55%            │\n",
      "├───────┼─────────────┼─────────────────┼───────────────────┤\n",
      "│ Total │   100.00%   │     100.00%     │ 100.00%           │\n",
      "╘═══════╧═════════════╧═════════════════╧═══════════════════╛\n"
     ]
    }
   ],
   "source": [
    "capm_weights = np.array(weights)\n",
    "markowitz_weights = np.array(markowitz_weights)\n",
    "BL_weight = np.array(BL_weight)\n",
    "symbols = [\"AAPL\", \"MSFT\", \"AMZN\", \"NVDA\", \"TSLA\", \"META\"]\n",
    "\n",
    "\n",
    "weights_table = pd.DataFrame({'Markowitz': markowitz_weights, 'CAPM (market)': capm_weights, 'Black-Litterman': BL_weight}, index=symbols) * 100\n",
    "weights_table.loc['Total'] = weights_table.sum()\n",
    "weights_table_formatted = weights_table.round(2).applymap('{:,.2f}%'.format)\n",
    "table_format = 'fancy_grid'\n",
    "column_alignment = ['center'] * len(weights_table.columns)\n",
    "\n",
    "print(\"\\033[1mComparison of weights\\033[0m \")\n",
    "print(tabulate(weights_table_formatted, headers='keys', tablefmt=table_format, showindex=True, colalign=column_alignment))"
   ]
  }
 ],
 "metadata": {
  "celltoolbar": "无",
  "kernelspec": {
   "display_name": "Python 3 (ipykernel)",
   "language": "python",
   "name": "python3"
  },
  "language_info": {
   "codemirror_mode": {
    "name": "ipython",
    "version": 3
   },
   "file_extension": ".py",
   "mimetype": "text/x-python",
   "name": "python",
   "nbconvert_exporter": "python",
   "pygments_lexer": "ipython3",
   "version": "3.9.13"
  }
 },
 "nbformat": 4,
 "nbformat_minor": 5
}
